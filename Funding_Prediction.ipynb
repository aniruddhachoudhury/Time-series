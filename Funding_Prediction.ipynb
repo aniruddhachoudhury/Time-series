{
  "nbformat": 4,
  "nbformat_minor": 0,
  "metadata": {
    "colab": {
      "name": "Funding Prediction",
      "version": "0.3.2",
      "provenance": [],
      "collapsed_sections": []
    },
    "kernelspec": {
      "name": "python3",
      "display_name": "Python 3"
    }
  },
  "cells": [
    {
      "metadata": {
        "id": "fjTSTeooPTtU",
        "colab_type": "text"
      },
      "cell_type": "markdown",
      "source": [
        "## **Business Case** : Analyze Venture capital funding data for some of the popular companies and present insights and observations from the data. "
      ]
    },
    {
      "metadata": {
        "id": "EPG0NCwHk5tr",
        "colab_type": "code",
        "outputId": "e4a59a90-9e16-4d99-af23-aeee3dd56a33",
        "colab": {
          "resources": {
            "http://localhost:8080/nbextensions/google.colab/files.js": {
              "data": "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",
              "ok": true,
              "headers": [
                [
                  "content-type",
                  "application/javascript"
                ]
              ],
              "status": 200,
              "status_text": ""
            }
          },
          "base_uri": "https://localhost:8080/",
          "height": 89
        }
      },
      "cell_type": "code",
      "source": [
        "from google.colab import files\n",
        "\n",
        "uploaded = files.upload()\n",
        "\n",
        "for fn in uploaded.keys():\n",
        "  print('User uploaded file \"{name}\" with length {length} bytes'.format(\n",
        "      name=fn, length=len(uploaded[fn])))"
      ],
      "execution_count": 276,
      "outputs": [
        {
          "output_type": "display_data",
          "data": {
            "text/html": [
              "\n",
              "     <input type=\"file\" id=\"files-b2f15fa0-3dd2-41b4-ad81-f484232b9b6f\" name=\"files[]\" multiple disabled />\n",
              "     <output id=\"result-b2f15fa0-3dd2-41b4-ad81-f484232b9b6f\">\n",
              "      Upload widget is only available when the cell has been executed in the\n",
              "      current browser session. Please rerun this cell to enable.\n",
              "      </output>\n",
              "      <script src=\"/nbextensions/google.colab/files.js\"></script> "
            ],
            "text/plain": [
              "<IPython.core.display.HTML object>"
            ]
          },
          "metadata": {
            "tags": []
          }
        },
        {
          "output_type": "stream",
          "text": [
            "Saving Case Study - VC funding data.xlsx to Case Study - VC funding data (1).xlsx\n",
            "User uploaded file \"Case Study - VC funding data.xlsx\" with length 115716 bytes\n"
          ],
          "name": "stdout"
        }
      ]
    },
    {
      "metadata": {
        "id": "S2OUr6lEQHoS",
        "colab_type": "text"
      },
      "cell_type": "markdown",
      "source": [
        "## Exploratory Data Analysis"
      ]
    },
    {
      "metadata": {
        "id": "P6neY0b4lge7",
        "colab_type": "code",
        "colab": {}
      },
      "cell_type": "code",
      "source": [
        "\n",
        "# Importing the libraries\n",
        "import pandas as pd\n",
        "import numpy as np\n",
        "import seaborn as sns\n",
        "import matplotlib.pyplot as plt\n",
        "from scipy import stats\n",
        "from scipy.stats import norm, skew \n",
        "%matplotlib inline"
      ],
      "execution_count": 0,
      "outputs": []
    },
    {
      "metadata": {
        "id": "TMIZpi1-mBah",
        "colab_type": "code",
        "colab": {}
      },
      "cell_type": "code",
      "source": [
        "import pandas as pd\n",
        "xls = pd.ExcelFile('Case Study - VC funding data.xlsx')\n",
        "df1 = pd.read_excel(xls, 'Funding Data')\n",
        "df2 = pd.read_excel(xls, 'State Map')"
      ],
      "execution_count": 0,
      "outputs": []
    },
    {
      "metadata": {
        "id": "a2qjOXR_UbYf",
        "colab_type": "code",
        "outputId": "b11b545b-9a1a-49d1-e4b3-faee7201d6e7",
        "colab": {
          "base_uri": "https://localhost:8080/",
          "height": 204
        }
      },
      "cell_type": "code",
      "source": [
        "df1.sort_index(ascending=True)\n",
        "df1.head()"
      ],
      "execution_count": 279,
      "outputs": [
        {
          "output_type": "execute_result",
          "data": {
            "text/html": [
              "<div>\n",
              "<style scoped>\n",
              "    .dataframe tbody tr th:only-of-type {\n",
              "        vertical-align: middle;\n",
              "    }\n",
              "\n",
              "    .dataframe tbody tr th {\n",
              "        vertical-align: top;\n",
              "    }\n",
              "\n",
              "    .dataframe thead th {\n",
              "        text-align: right;\n",
              "    }\n",
              "</style>\n",
              "<table border=\"1\" class=\"dataframe\">\n",
              "  <thead>\n",
              "    <tr style=\"text-align: right;\">\n",
              "      <th></th>\n",
              "      <th>permalink</th>\n",
              "      <th>company</th>\n",
              "      <th>Employee count</th>\n",
              "      <th>category</th>\n",
              "      <th>city</th>\n",
              "      <th>fundedDate</th>\n",
              "      <th>raisedAmt</th>\n",
              "      <th>raisedCurrency</th>\n",
              "      <th>round</th>\n",
              "    </tr>\n",
              "  </thead>\n",
              "  <tbody>\n",
              "    <tr>\n",
              "      <th>0</th>\n",
              "      <td>lifelock-5</td>\n",
              "      <td>Li feLock</td>\n",
              "      <td>NaN</td>\n",
              "      <td>web</td>\n",
              "      <td>Tempe</td>\n",
              "      <td>39203</td>\n",
              "      <td>6850000.0</td>\n",
              "      <td>USD</td>\n",
              "      <td>b</td>\n",
              "    </tr>\n",
              "    <tr>\n",
              "      <th>1</th>\n",
              "      <td>lifelock-3</td>\n",
              "      <td>LifeL ock</td>\n",
              "      <td>NaN</td>\n",
              "      <td>web</td>\n",
              "      <td>Tempe</td>\n",
              "      <td>38991</td>\n",
              "      <td>6000000.0</td>\n",
              "      <td>USD</td>\n",
              "      <td>a</td>\n",
              "    </tr>\n",
              "    <tr>\n",
              "      <th>2</th>\n",
              "      <td>NaN</td>\n",
              "      <td>LifeLock</td>\n",
              "      <td>NaN</td>\n",
              "      <td>web</td>\n",
              "      <td>NaN</td>\n",
              "      <td>39448</td>\n",
              "      <td>25000000.0</td>\n",
              "      <td>USD</td>\n",
              "      <td>c</td>\n",
              "    </tr>\n",
              "    <tr>\n",
              "      <th>3</th>\n",
              "      <td>mycityfaces-4</td>\n",
              "      <td>MyCityFaces</td>\n",
              "      <td>7.0</td>\n",
              "      <td>web</td>\n",
              "      <td>Scottsdale</td>\n",
              "      <td>39448</td>\n",
              "      <td>50000.0</td>\n",
              "      <td>USD</td>\n",
              "      <td>seed</td>\n",
              "    </tr>\n",
              "    <tr>\n",
              "      <th>4</th>\n",
              "      <td>flypaper-3</td>\n",
              "      <td>Flypap er</td>\n",
              "      <td>NaN</td>\n",
              "      <td>web</td>\n",
              "      <td>Phoenix</td>\n",
              "      <td>39479</td>\n",
              "      <td>3000000.0</td>\n",
              "      <td>USD</td>\n",
              "      <td>a</td>\n",
              "    </tr>\n",
              "  </tbody>\n",
              "</table>\n",
              "</div>"
            ],
            "text/plain": [
              "        permalink      company  Employee count category        city  \\\n",
              "0      lifelock-5    Li feLock             NaN      web       Tempe   \n",
              "1      lifelock-3    LifeL ock             NaN      web       Tempe   \n",
              "2             NaN     LifeLock             NaN      web         NaN   \n",
              "3   mycityfaces-4  MyCityFaces             7.0      web  Scottsdale   \n",
              "4      flypaper-3    Flypap er             NaN      web     Phoenix   \n",
              "\n",
              "   fundedDate   raisedAmt raisedCurrency round  \n",
              "0       39203   6850000.0            USD     b  \n",
              "1       38991   6000000.0            USD     a  \n",
              "2       39448  25000000.0            USD     c  \n",
              "3       39448     50000.0            USD  seed  \n",
              "4       39479   3000000.0            USD     a  "
            ]
          },
          "metadata": {
            "tags": []
          },
          "execution_count": 279
        }
      ]
    },
    {
      "metadata": {
        "id": "ux5SYFmocBZ2",
        "colab_type": "code",
        "outputId": "42a794e2-b8c0-4edd-9a15-253dee0c66a0",
        "colab": {
          "base_uri": "https://localhost:8080/",
          "height": 204
        }
      },
      "cell_type": "code",
      "source": [
        "df2[\"city\"] = df2['city'].str.replace('[^\\w\\s]','')\n",
        "df2['city']=df2['city'].str[:-3]\n",
        "df2.head()\n"
      ],
      "execution_count": 281,
      "outputs": [
        {
          "output_type": "execute_result",
          "data": {
            "text/html": [
              "<div>\n",
              "<style scoped>\n",
              "    .dataframe tbody tr th:only-of-type {\n",
              "        vertical-align: middle;\n",
              "    }\n",
              "\n",
              "    .dataframe tbody tr th {\n",
              "        vertical-align: top;\n",
              "    }\n",
              "\n",
              "    .dataframe thead th {\n",
              "        text-align: right;\n",
              "    }\n",
              "</style>\n",
              "<table border=\"1\" class=\"dataframe\">\n",
              "  <thead>\n",
              "    <tr style=\"text-align: right;\">\n",
              "      <th></th>\n",
              "      <th>city</th>\n",
              "      <th>state</th>\n",
              "    </tr>\n",
              "  </thead>\n",
              "  <tbody>\n",
              "    <tr>\n",
              "      <th>0</th>\n",
              "      <td>Gilb</td>\n",
              "      <td>AZ</td>\n",
              "    </tr>\n",
              "    <tr>\n",
              "      <th>1</th>\n",
              "      <td>Phoe</td>\n",
              "      <td>AZ</td>\n",
              "    </tr>\n",
              "    <tr>\n",
              "      <th>2</th>\n",
              "      <td>Scottsd</td>\n",
              "      <td>AZ</td>\n",
              "    </tr>\n",
              "    <tr>\n",
              "      <th>3</th>\n",
              "      <td>Scottsd</td>\n",
              "      <td>AZ</td>\n",
              "    </tr>\n",
              "    <tr>\n",
              "      <th>4</th>\n",
              "      <td>Scottsd</td>\n",
              "      <td>AZ</td>\n",
              "    </tr>\n",
              "  </tbody>\n",
              "</table>\n",
              "</div>"
            ],
            "text/plain": [
              "      city state\n",
              "0     Gilb    AZ\n",
              "1     Phoe    AZ\n",
              "2  Scottsd    AZ\n",
              "3  Scottsd    AZ\n",
              "4  Scottsd    AZ"
            ]
          },
          "metadata": {
            "tags": []
          },
          "execution_count": 281
        }
      ]
    },
    {
      "metadata": {
        "id": "X0xe6znIn87h",
        "colab_type": "code",
        "outputId": "82a3301f-ac25-4893-f678-d741686b8e4f",
        "colab": {
          "base_uri": "https://localhost:8080/",
          "height": 255
        }
      },
      "cell_type": "code",
      "source": [
        "df1.info()"
      ],
      "execution_count": 282,
      "outputs": [
        {
          "output_type": "stream",
          "text": [
            "<class 'pandas.core.frame.DataFrame'>\n",
            "RangeIndex: 1460 entries, 0 to 1459\n",
            "Data columns (total 9 columns):\n",
            "permalink         1456 non-null object\n",
            "company           1460 non-null object\n",
            "Employee count    567 non-null float64\n",
            "category          1436 non-null object\n",
            "city              1423 non-null object\n",
            "fundedDate        1460 non-null int64\n",
            "raisedAmt         1460 non-null float64\n",
            "raisedCurrency    1460 non-null object\n",
            "round             1460 non-null object\n",
            "dtypes: float64(2), int64(1), object(6)\n",
            "memory usage: 102.7+ KB\n"
          ],
          "name": "stdout"
        }
      ]
    },
    {
      "metadata": {
        "id": "9LjOnk88ocWs",
        "colab_type": "code",
        "outputId": "e94b899b-684e-4dc9-cfce-34c2f21614f1",
        "colab": {
          "base_uri": "https://localhost:8080/",
          "height": 136
        }
      },
      "cell_type": "code",
      "source": [
        "df2.info()"
      ],
      "execution_count": 283,
      "outputs": [
        {
          "output_type": "stream",
          "text": [
            "<class 'pandas.core.frame.DataFrame'>\n",
            "RangeIndex: 1460 entries, 0 to 1459\n",
            "Data columns (total 2 columns):\n",
            "city     1460 non-null object\n",
            "state    1460 non-null object\n",
            "dtypes: object(2)\n",
            "memory usage: 22.9+ KB\n"
          ],
          "name": "stdout"
        }
      ]
    },
    {
      "metadata": {
        "id": "IRWxRuVRtDNm",
        "colab_type": "code",
        "colab": {}
      },
      "cell_type": "code",
      "source": [
        "Data=pd.merge(df1,df2,left_index=True,right_index=True)"
      ],
      "execution_count": 0,
      "outputs": []
    },
    {
      "metadata": {
        "id": "LGRHkYBitOAf",
        "colab_type": "code",
        "outputId": "5be5a2af-8f22-40ca-d957-ec6d15751df0",
        "colab": {
          "base_uri": "https://localhost:8080/",
          "height": 204
        }
      },
      "cell_type": "code",
      "source": [
        "Data.head()"
      ],
      "execution_count": 285,
      "outputs": [
        {
          "output_type": "execute_result",
          "data": {
            "text/html": [
              "<div>\n",
              "<style scoped>\n",
              "    .dataframe tbody tr th:only-of-type {\n",
              "        vertical-align: middle;\n",
              "    }\n",
              "\n",
              "    .dataframe tbody tr th {\n",
              "        vertical-align: top;\n",
              "    }\n",
              "\n",
              "    .dataframe thead th {\n",
              "        text-align: right;\n",
              "    }\n",
              "</style>\n",
              "<table border=\"1\" class=\"dataframe\">\n",
              "  <thead>\n",
              "    <tr style=\"text-align: right;\">\n",
              "      <th></th>\n",
              "      <th>permalink</th>\n",
              "      <th>company</th>\n",
              "      <th>Employee count</th>\n",
              "      <th>category</th>\n",
              "      <th>city_x</th>\n",
              "      <th>fundedDate</th>\n",
              "      <th>raisedAmt</th>\n",
              "      <th>raisedCurrency</th>\n",
              "      <th>round</th>\n",
              "      <th>city_y</th>\n",
              "      <th>state</th>\n",
              "    </tr>\n",
              "  </thead>\n",
              "  <tbody>\n",
              "    <tr>\n",
              "      <th>0</th>\n",
              "      <td>lifelock-5</td>\n",
              "      <td>Li feLock</td>\n",
              "      <td>NaN</td>\n",
              "      <td>web</td>\n",
              "      <td>Tempe</td>\n",
              "      <td>39203</td>\n",
              "      <td>6850000.0</td>\n",
              "      <td>USD</td>\n",
              "      <td>b</td>\n",
              "      <td>Gilb</td>\n",
              "      <td>AZ</td>\n",
              "    </tr>\n",
              "    <tr>\n",
              "      <th>1</th>\n",
              "      <td>lifelock-3</td>\n",
              "      <td>LifeL ock</td>\n",
              "      <td>NaN</td>\n",
              "      <td>web</td>\n",
              "      <td>Tempe</td>\n",
              "      <td>38991</td>\n",
              "      <td>6000000.0</td>\n",
              "      <td>USD</td>\n",
              "      <td>a</td>\n",
              "      <td>Phoe</td>\n",
              "      <td>AZ</td>\n",
              "    </tr>\n",
              "    <tr>\n",
              "      <th>2</th>\n",
              "      <td>NaN</td>\n",
              "      <td>LifeLock</td>\n",
              "      <td>NaN</td>\n",
              "      <td>web</td>\n",
              "      <td>NaN</td>\n",
              "      <td>39448</td>\n",
              "      <td>25000000.0</td>\n",
              "      <td>USD</td>\n",
              "      <td>c</td>\n",
              "      <td>Scottsd</td>\n",
              "      <td>AZ</td>\n",
              "    </tr>\n",
              "    <tr>\n",
              "      <th>3</th>\n",
              "      <td>mycityfaces-4</td>\n",
              "      <td>MyCityFaces</td>\n",
              "      <td>7.0</td>\n",
              "      <td>web</td>\n",
              "      <td>Scottsdale</td>\n",
              "      <td>39448</td>\n",
              "      <td>50000.0</td>\n",
              "      <td>USD</td>\n",
              "      <td>seed</td>\n",
              "      <td>Scottsd</td>\n",
              "      <td>AZ</td>\n",
              "    </tr>\n",
              "    <tr>\n",
              "      <th>4</th>\n",
              "      <td>flypaper-3</td>\n",
              "      <td>Flypap er</td>\n",
              "      <td>NaN</td>\n",
              "      <td>web</td>\n",
              "      <td>Phoenix</td>\n",
              "      <td>39479</td>\n",
              "      <td>3000000.0</td>\n",
              "      <td>USD</td>\n",
              "      <td>a</td>\n",
              "      <td>Scottsd</td>\n",
              "      <td>AZ</td>\n",
              "    </tr>\n",
              "  </tbody>\n",
              "</table>\n",
              "</div>"
            ],
            "text/plain": [
              "        permalink      company  Employee count category      city_x  \\\n",
              "0      lifelock-5    Li feLock             NaN      web       Tempe   \n",
              "1      lifelock-3    LifeL ock             NaN      web       Tempe   \n",
              "2             NaN     LifeLock             NaN      web         NaN   \n",
              "3   mycityfaces-4  MyCityFaces             7.0      web  Scottsdale   \n",
              "4      flypaper-3    Flypap er             NaN      web     Phoenix   \n",
              "\n",
              "   fundedDate   raisedAmt raisedCurrency round   city_y state  \n",
              "0       39203   6850000.0            USD     b     Gilb    AZ  \n",
              "1       38991   6000000.0            USD     a     Phoe    AZ  \n",
              "2       39448  25000000.0            USD     c  Scottsd    AZ  \n",
              "3       39448     50000.0            USD  seed  Scottsd    AZ  \n",
              "4       39479   3000000.0            USD     a  Scottsd    AZ  "
            ]
          },
          "metadata": {
            "tags": []
          },
          "execution_count": 285
        }
      ]
    },
    {
      "metadata": {
        "id": "pdzEBfe25p1w",
        "colab_type": "code",
        "outputId": "ad8f4083-8f65-43e5-82e8-26aa2c677fd7",
        "colab": {
          "base_uri": "https://localhost:8080/",
          "height": 221
        }
      },
      "cell_type": "code",
      "source": [
        "Data.isna().any()"
      ],
      "execution_count": 286,
      "outputs": [
        {
          "output_type": "execute_result",
          "data": {
            "text/plain": [
              "permalink          True\n",
              "company           False\n",
              "Employee count     True\n",
              "category           True\n",
              "city_x             True\n",
              "fundedDate        False\n",
              "raisedAmt         False\n",
              "raisedCurrency    False\n",
              "round             False\n",
              "city_y            False\n",
              "state             False\n",
              "dtype: bool"
            ]
          },
          "metadata": {
            "tags": []
          },
          "execution_count": 286
        }
      ]
    },
    {
      "metadata": {
        "id": "oOorWe3c6m2I",
        "colab_type": "code",
        "outputId": "17bd3e10-f5ae-42ce-fb79-871f0d55b063",
        "colab": {
          "base_uri": "https://localhost:8080/",
          "height": 85
        }
      },
      "cell_type": "code",
      "source": [
        "Data.rename(columns={'Employee count': 'Employee_count'}, inplace=True)\n",
        "Data.columns"
      ],
      "execution_count": 287,
      "outputs": [
        {
          "output_type": "execute_result",
          "data": {
            "text/plain": [
              "Index(['permalink', 'company', 'Employee_count', 'category', 'city_x',\n",
              "       'fundedDate', 'raisedAmt', 'raisedCurrency', 'round', 'city_y',\n",
              "       'state'],\n",
              "      dtype='object')"
            ]
          },
          "metadata": {
            "tags": []
          },
          "execution_count": 287
        }
      ]
    },
    {
      "metadata": {
        "id": "0lVLVI7eLkUS",
        "colab_type": "code",
        "outputId": "4ef3fd57-af47-4097-daa0-66c5cf142a20",
        "colab": {
          "base_uri": "https://localhost:8080/",
          "height": 204
        }
      },
      "cell_type": "code",
      "source": [
        "Data['company']  = Data['company'].str.replace(\" \",\"\")\n",
        "Data['permalink']  = Data['permalink'].str.replace(\" \",\"\")\n",
        "Data.head()"
      ],
      "execution_count": 288,
      "outputs": [
        {
          "output_type": "execute_result",
          "data": {
            "text/html": [
              "<div>\n",
              "<style scoped>\n",
              "    .dataframe tbody tr th:only-of-type {\n",
              "        vertical-align: middle;\n",
              "    }\n",
              "\n",
              "    .dataframe tbody tr th {\n",
              "        vertical-align: top;\n",
              "    }\n",
              "\n",
              "    .dataframe thead th {\n",
              "        text-align: right;\n",
              "    }\n",
              "</style>\n",
              "<table border=\"1\" class=\"dataframe\">\n",
              "  <thead>\n",
              "    <tr style=\"text-align: right;\">\n",
              "      <th></th>\n",
              "      <th>permalink</th>\n",
              "      <th>company</th>\n",
              "      <th>Employee_count</th>\n",
              "      <th>category</th>\n",
              "      <th>city_x</th>\n",
              "      <th>fundedDate</th>\n",
              "      <th>raisedAmt</th>\n",
              "      <th>raisedCurrency</th>\n",
              "      <th>round</th>\n",
              "      <th>city_y</th>\n",
              "      <th>state</th>\n",
              "    </tr>\n",
              "  </thead>\n",
              "  <tbody>\n",
              "    <tr>\n",
              "      <th>0</th>\n",
              "      <td>lifelock-5</td>\n",
              "      <td>LifeLock</td>\n",
              "      <td>NaN</td>\n",
              "      <td>web</td>\n",
              "      <td>Tempe</td>\n",
              "      <td>39203</td>\n",
              "      <td>6850000.0</td>\n",
              "      <td>USD</td>\n",
              "      <td>b</td>\n",
              "      <td>Gilb</td>\n",
              "      <td>AZ</td>\n",
              "    </tr>\n",
              "    <tr>\n",
              "      <th>1</th>\n",
              "      <td>lifelock-3</td>\n",
              "      <td>LifeLock</td>\n",
              "      <td>NaN</td>\n",
              "      <td>web</td>\n",
              "      <td>Tempe</td>\n",
              "      <td>38991</td>\n",
              "      <td>6000000.0</td>\n",
              "      <td>USD</td>\n",
              "      <td>a</td>\n",
              "      <td>Phoe</td>\n",
              "      <td>AZ</td>\n",
              "    </tr>\n",
              "    <tr>\n",
              "      <th>2</th>\n",
              "      <td>NaN</td>\n",
              "      <td>LifeLock</td>\n",
              "      <td>NaN</td>\n",
              "      <td>web</td>\n",
              "      <td>NaN</td>\n",
              "      <td>39448</td>\n",
              "      <td>25000000.0</td>\n",
              "      <td>USD</td>\n",
              "      <td>c</td>\n",
              "      <td>Scottsd</td>\n",
              "      <td>AZ</td>\n",
              "    </tr>\n",
              "    <tr>\n",
              "      <th>3</th>\n",
              "      <td>mycityfaces-4</td>\n",
              "      <td>MyCityFaces</td>\n",
              "      <td>7.0</td>\n",
              "      <td>web</td>\n",
              "      <td>Scottsdale</td>\n",
              "      <td>39448</td>\n",
              "      <td>50000.0</td>\n",
              "      <td>USD</td>\n",
              "      <td>seed</td>\n",
              "      <td>Scottsd</td>\n",
              "      <td>AZ</td>\n",
              "    </tr>\n",
              "    <tr>\n",
              "      <th>4</th>\n",
              "      <td>flypaper-3</td>\n",
              "      <td>Flypaper</td>\n",
              "      <td>NaN</td>\n",
              "      <td>web</td>\n",
              "      <td>Phoenix</td>\n",
              "      <td>39479</td>\n",
              "      <td>3000000.0</td>\n",
              "      <td>USD</td>\n",
              "      <td>a</td>\n",
              "      <td>Scottsd</td>\n",
              "      <td>AZ</td>\n",
              "    </tr>\n",
              "  </tbody>\n",
              "</table>\n",
              "</div>"
            ],
            "text/plain": [
              "       permalink      company  Employee_count category      city_x  \\\n",
              "0     lifelock-5     LifeLock             NaN      web       Tempe   \n",
              "1     lifelock-3     LifeLock             NaN      web       Tempe   \n",
              "2            NaN     LifeLock             NaN      web         NaN   \n",
              "3  mycityfaces-4  MyCityFaces             7.0      web  Scottsdale   \n",
              "4     flypaper-3     Flypaper             NaN      web     Phoenix   \n",
              "\n",
              "   fundedDate   raisedAmt raisedCurrency round   city_y state  \n",
              "0       39203   6850000.0            USD     b     Gilb    AZ  \n",
              "1       38991   6000000.0            USD     a     Phoe    AZ  \n",
              "2       39448  25000000.0            USD     c  Scottsd    AZ  \n",
              "3       39448     50000.0            USD  seed  Scottsd    AZ  \n",
              "4       39479   3000000.0            USD     a  Scottsd    AZ  "
            ]
          },
          "metadata": {
            "tags": []
          },
          "execution_count": 288
        }
      ]
    },
    {
      "metadata": {
        "id": "TmsIPsOfQjmp",
        "colab_type": "text"
      },
      "cell_type": "markdown",
      "source": [
        "## Data Cleaning "
      ]
    },
    {
      "metadata": {
        "id": "c5cySMOR7Ou3",
        "colab_type": "code",
        "colab": {}
      },
      "cell_type": "code",
      "source": [
        "Main=Data"
      ],
      "execution_count": 0,
      "outputs": []
    },
    {
      "metadata": {
        "id": "TYGPoItk4KGX",
        "colab_type": "code",
        "outputId": "de93c758-24a7-4554-8215-2f6b4a658138",
        "colab": {
          "base_uri": "https://localhost:8080/",
          "height": 34
        }
      },
      "cell_type": "code",
      "source": [
        "# Main.drop(['raisedAmt'], axis=1, inplace=True)\n",
        "print(\"all_data size is : {}\".format(Main.shape))"
      ],
      "execution_count": 291,
      "outputs": [
        {
          "output_type": "stream",
          "text": [
            "all_data size is : (1460, 11)\n"
          ],
          "name": "stdout"
        }
      ]
    },
    {
      "metadata": {
        "id": "L3xDAlkv43Mc",
        "colab_type": "code",
        "outputId": "78a88d8c-5603-47f1-e67d-e30bbb5fabff",
        "colab": {
          "base_uri": "https://localhost:8080/",
          "height": 173
        }
      },
      "cell_type": "code",
      "source": [
        "all_data_na = (Main.isnull().sum() / len(Main)) * 100\n",
        "all_data_na = all_data_na.drop(all_data_na[all_data_na == 0].index).sort_values(ascending=False)[:30]\n",
        "missing_data = pd.DataFrame({'Missing Ratio' :all_data_na})\n",
        "missing_data.head(20)"
      ],
      "execution_count": 295,
      "outputs": [
        {
          "output_type": "execute_result",
          "data": {
            "text/html": [
              "<div>\n",
              "<style scoped>\n",
              "    .dataframe tbody tr th:only-of-type {\n",
              "        vertical-align: middle;\n",
              "    }\n",
              "\n",
              "    .dataframe tbody tr th {\n",
              "        vertical-align: top;\n",
              "    }\n",
              "\n",
              "    .dataframe thead th {\n",
              "        text-align: right;\n",
              "    }\n",
              "</style>\n",
              "<table border=\"1\" class=\"dataframe\">\n",
              "  <thead>\n",
              "    <tr style=\"text-align: right;\">\n",
              "      <th></th>\n",
              "      <th>Missing Ratio</th>\n",
              "    </tr>\n",
              "  </thead>\n",
              "  <tbody>\n",
              "    <tr>\n",
              "      <th>Employee_count</th>\n",
              "      <td>61.164384</td>\n",
              "    </tr>\n",
              "    <tr>\n",
              "      <th>city_x</th>\n",
              "      <td>2.534247</td>\n",
              "    </tr>\n",
              "    <tr>\n",
              "      <th>category</th>\n",
              "      <td>1.643836</td>\n",
              "    </tr>\n",
              "    <tr>\n",
              "      <th>permalink</th>\n",
              "      <td>0.273973</td>\n",
              "    </tr>\n",
              "  </tbody>\n",
              "</table>\n",
              "</div>"
            ],
            "text/plain": [
              "                Missing Ratio\n",
              "Employee_count      61.164384\n",
              "city_x               2.534247\n",
              "category             1.643836\n",
              "permalink            0.273973"
            ]
          },
          "metadata": {
            "tags": []
          },
          "execution_count": 295
        }
      ]
    },
    {
      "metadata": {
        "id": "XxQtO64N43J_",
        "colab_type": "code",
        "outputId": "2c52119e-ffcb-4bc0-f9c8-4c7f3e5f5fdd",
        "colab": {
          "base_uri": "https://localhost:8080/",
          "height": 460
        }
      },
      "cell_type": "code",
      "source": [
        "# Graphical representation of the missing values.\n",
        "x = Main.columns\n",
        "y = Main.isnull().sum()\n",
        "sns.set()\n",
        "sns.barplot(x,y)\n",
        "ax = plt.gca()\n",
        "for p in ax.patches:\n",
        "    height = p.get_height()\n",
        "    ax.text(p.get_x() + p.get_width()/2.,\n",
        "            height + 2,\n",
        "            int(height),\n",
        "            fontsize=14, ha='center', va='bottom')\n",
        "sns.set(font_scale=1.5)\n",
        "sns.set(rc={'figure.figsize':(8,8)})\n",
        "ax.set_xlabel(\"Data Attributes\")\n",
        "ax.set_ylabel(\"count of missing records for each attribute\")\n",
        "plt.xticks(rotation=90)\n",
        "plt.show()"
      ],
      "execution_count": 296,
      "outputs": [
        {
          "output_type": "stream",
          "text": [
            "/usr/local/lib/python3.6/dist-packages/seaborn/categorical.py:1428: FutureWarning: remove_na is deprecated and is a private function. Do not use.\n",
            "  stat_data = remove_na(group_data)\n"
          ],
          "name": "stderr"
        },
        {
          "output_type": "display_data",
          "data": {
            "image/png": "[encoded data removed]",
            "text/plain": [
              "<Figure size 576x396 with 1 Axes>"
            ]
          },
          "metadata": {
            "tags": []
          }
        }
      ]
    },
    {
      "metadata": {
        "id": "V0t9e1MctqB0",
        "colab_type": "code",
        "outputId": "7c250b0b-a970-4612-c75d-58ddc921ca7e",
        "colab": {
          "base_uri": "https://localhost:8080/",
          "height": 289
        }
      },
      "cell_type": "code",
      "source": [
        "# Actual replacement of the missing value using median value.\n",
        "Data_median = Data.fillna((Data.mean()))\n",
        "Data_median.info()"
      ],
      "execution_count": 297,
      "outputs": [
        {
          "output_type": "stream",
          "text": [
            "<class 'pandas.core.frame.DataFrame'>\n",
            "RangeIndex: 1460 entries, 0 to 1459\n",
            "Data columns (total 11 columns):\n",
            "permalink         1456 non-null object\n",
            "company           1460 non-null object\n",
            "Employee_count    1460 non-null float64\n",
            "category          1436 non-null object\n",
            "city_x            1423 non-null object\n",
            "fundedDate        1460 non-null int64\n",
            "raisedAmt         1460 non-null float64\n",
            "raisedCurrency    1460 non-null object\n",
            "round             1460 non-null object\n",
            "city_y            1460 non-null object\n",
            "state             1460 non-null object\n",
            "dtypes: float64(2), int64(1), object(8)\n",
            "memory usage: 125.5+ KB\n"
          ],
          "name": "stdout"
        }
      ]
    },
    {
      "metadata": {
        "id": "4fkYF0WnyRmd",
        "colab_type": "code",
        "outputId": "09d1f07c-962d-4f1a-89ad-4ed9492fbc63",
        "colab": {
          "base_uri": "https://localhost:8080/",
          "height": 221
        }
      },
      "cell_type": "code",
      "source": [
        "# You will get to know which column has missing value and it's give the count that how many records are missing \n",
        "Data_median.isnull().sum()"
      ],
      "execution_count": 298,
      "outputs": [
        {
          "output_type": "execute_result",
          "data": {
            "text/plain": [
              "permalink          4\n",
              "company            0\n",
              "Employee_count     0\n",
              "category          24\n",
              "city_x            37\n",
              "fundedDate         0\n",
              "raisedAmt          0\n",
              "raisedCurrency     0\n",
              "round              0\n",
              "city_y             0\n",
              "state              0\n",
              "dtype: int64"
            ]
          },
          "metadata": {
            "tags": []
          },
          "execution_count": 298
        }
      ]
    },
    {
      "metadata": {
        "id": "ogsI_j9W43HC",
        "colab_type": "code",
        "outputId": "78205242-05f7-4771-8fd2-c6a27fe3494f",
        "colab": {
          "base_uri": "https://localhost:8080/",
          "height": 3230
        }
      },
      "cell_type": "code",
      "source": [
        "pd.unique(Data_median[['company']].values.ravel('K'))"
      ],
      "execution_count": 299,
      "outputs": [
        {
          "output_type": "execute_result",
          "data": {
            "text/plain": [
              "array(['LifeLock', 'MyCityFaces', 'Flypaper', 'Infusionsoft', 'gAuto',\n",
              "       'ChosenList.com', 'Digg', 'Facebook', 'Photobucket', 'Omnidrive',\n",
              "       'Geni', 'Twitter', 'StumbleUpon', 'Gizmoz', 'Scribd', 'Slacker',\n",
              "       'Lala', 'Plaxo', 'Powerset', 'Technorati', 'Mahalo', 'Kyte',\n",
              "       'Veoh', 'JingleNetworks', 'Ning', 'JotSpot', 'Mercora', 'Wesabe',\n",
              "       'Jangl', 'Hyphen8', 'Prosper', 'Google', 'Jajah', 'YouTube',\n",
              "       'Ustream', 'GizmoProject', 'Adap.tv', 'Topix', 'Revision3',\n",
              "       'AggregateKnowledge', 'SugarInc', 'Zing', 'CriticalMetrics',\n",
              "       'Spock', 'Wize', 'SodaHead', 'CastTV', 'BuzzNet', 'FunnyOrDie',\n",
              "       'Sphere', 'MeeVee', 'Mashery', 'Yelp', 'Spotplex', 'Coghead',\n",
              "       'Zooomr', 'SideStep', 'RockYou', 'Pageflakes', 'Swivel', 'Slide',\n",
              "       'Bebo', 'freebase', 'MetawebTechnologies', 'GlamMedia', 'TheFind',\n",
              "       'Zazzle', 'Dogster', 'Pandora', 'Cafepress', 'pbwiki', 'AdBrite',\n",
              "       'Loomia', 'Meebo', 'Eventbrite', 'LinkedIn', 'FlickIM', 'Terabitz',\n",
              "       'Healthline', 'Box.net', 'Conduit', 'Edgeio', 'SpotRunner',\n",
              "       'Kaboodle', 'GigaOmniMedia', 'VisiblePath', 'Wink', 'seesmic',\n",
              "       'Zvents', 'Eventful', 'Oodle', 'oDesk', 'SimplyHired', 'ooma',\n",
              "       'GoingOn', 'Flixster', 'Piczo', 'Socialtext', 'PowerReview', 'hi5',\n",
              "       'Tagged', 'Jaxtr', 'Me', 'introNetworks', 'LeverageSoftware',\n",
              "       'LithiumTechnologies', 'Genius', 'Respectance', 'Curse',\n",
              "       'LicketyShip', 'Grockit', 'PeerMe', 'Kiptronic', 'Vuze',\n",
              "       'Phonezoo', 'DropletTechnology', 'PodTech', 'Crackle', 'Reddit',\n",
              "       'Wikia', 'Retrevo', 'Buxfer', 'YouSendIt', 'Tangler', 'obopay',\n",
              "       'PayPal', 'TalkPlus', 'Vudu', 'InsiderPages', 'Snapfish',\n",
              "       'AffinityCircles', 'IMVU', 'Nirvanix', 'HabitIndustries', 'Gaia',\n",
              "       'GreatCall', 'Revver', 'Metacafe', 'Flock', 'VMIXMedia', 'Kontera',\n",
              "       'Tokbox', 'SixApart', 'Weebly', 'Synthasite', 'BitTorrent',\n",
              "       'Kongregate', 'DanceJam', 'FathomOnline', 'Zivity', 'BlueLithium',\n",
              "       'eXpresso', 'Doostang', 'Docstoc', 'Mevio', 'PureVideoNetworks',\n",
              "       'FilmLoop', 'BitPass', 'Art.com', 'AtomShockwave', 'CinemaNow',\n",
              "       'DigitalChocolate', 'eHarmony', 'Friendster', 'Greystripe',\n",
              "       'SlingMedia', 'Trulia', 'LendingClub', 'tubemogul', 'Gemini',\n",
              "       'Multiverse', 'LimeLife', 'OpenTable', 'RooftopComedy',\n",
              "       'FederatedMedia', 'DeliveryAgent', 'Reunion', 'Mixercast',\n",
              "       'mTraks', 'Xora', 'Ooyala', 'SayNow', 'Crunchyroll', 'CircleUp',\n",
              "       'PixSense', 'Danal', 'hulu', 'OurStory', 'Specificmedia', 'AdMob',\n",
              "       'MySQL', 'Attributor', 'SocialMedia', 'DemandMedia', 'TripIt',\n",
              "       'PubMatic', 'Mint', 'app2you', 'YourStreet', 'Tagworld', 'RotoHog',\n",
              "       'ThisNext', 'ChessPark', 'Break', 'MuseStorm', 'MediaMachines',\n",
              "       'Ciihui', 'Aliph', 'mEgo', 'Realius', 'Xobni', 'Spoke', 'FixYa',\n",
              "       'Mozilla', 'BrightQube', 'BuzzDash', 'UrbanMapping',\n",
              "       'ConsorteMedia', 'ffwd', 'GetSatisfaction', 'RingCentral', '3Jam',\n",
              "       'PlaySpan', 'Grouply', 'Graspr', 'Zannel', 'deca.tv', 'Zimbra',\n",
              "       'FriendFeed', 'Rupture', 'JibJab', 'RubiconProject', 'SnapLayout',\n",
              "       'Confabb', 'UpTake', '23andMe', 'YuMe', 'MochiMedia', 'Blurb',\n",
              "       'WeatherBill', 'Automattic', 'RadarNetworks', 'Veodia', 'EchoSign',\n",
              "       'Rollbase', 'Predictify', 'TrialPay', 'Socializr', 'Eurekster',\n",
              "       'Gydget', 'PicksPal', 'Gigya', 'Songbird', 'GuardianAnalytics',\n",
              "       'Fora.TV', 'Disqus', 'SezWho', 'YieldBuild', 'Akimbo',\n",
              "       'LaszloSystems', 'BrightRoll', 'MerchantCircle', 'Minekey',\n",
              "       'BookingAngel', 'Loopt', 'Fix8', 'MyBuys', 'BlackArrow',\n",
              "       'Peerflix', 'fatdoor', 'Verimatrix', 'Billeo', 'Caring.com',\n",
              "       'Ask.com', 'ProjectPlaylist', 'Blowtorch', 'GameLayers', 'MoGreet',\n",
              "       'YourTrumanShow', 'Apprema', 'TrustedID', 'Seeqpod', 'Quantenna',\n",
              "       'Qwaq', 'uber', 'CashView', 'CrossLoop', 'Dapper',\n",
              "       'AnchorIntelligence', 'EdgeCast', 'Kosmix', 'GoodReads', 'Ribbit',\n",
              "       'Jobvite', 'JuiceWireless', 'Qik', 'PlayFirst', 'Mobissimo',\n",
              "       'Chumby', 'UGOBE', 'Ausra', 'Causes', 'Nanosolar', 'Shozu',\n",
              "       'TeslaMotors', 'Bunchball', 'Pinger', 'Hooja', 'TravelMuse',\n",
              "       'Cooking.com', 'Meraki', 'SugarCRM', 'PuddingMedia', '4HomeMedia',\n",
              "       'Pageonce', 'bluepulse', 'Mogad', 'DeviceVM', 'Outspark',\n",
              "       'EngineYard', 'PLYmedia', 'fabrik', 'Widgetbox', 'RazorGator',\n",
              "       'OverSee', 'Zynga', 'Smaato', 'CreditKarma', 'Greenplum', 'Amobee',\n",
              "       'WebMynd', 'CurrentMedia', 'Heroku', 'Lookery', 'MillRiverLabs',\n",
              "       'Grouptivity', 'Aductions', 'VentureBeat', 'Collarity', 'RocketOn',\n",
              "       'WhatTheyLike', 'GumGum', 'SnapTechnologies', 'TwoFish',\n",
              "       'ThreeRings', 'Smalltown', 'SparkplayMedia', 'MOG',\n",
              "       'SocialGamingNetwork', 'Danger', 'Coverity', 'GenieTown', 'Redux',\n",
              "       'Evernote', 'Numobiq', 'GoldSpotMedia', 'Mobixell', 'AdInfuse',\n",
              "       'SendMe', 'TinyPictures', 'flurry', 'Sharpcast', 'Teneros',\n",
              "       'PhotoCrank', 'Yodlee', 'SlideRocket', 'SurfCanyon',\n",
              "       'CentralDesktop', 'OpenDNS', 'Coveo', 'Vizu', 'Taltopia',\n",
              "       'KapowTechnologies', 'ProgrammerMeetDesigner.com', 'LiveOps',\n",
              "       'Clickpass', 'SearchMe', 'AccountNow', 'DailyStrength',\n",
              "       'PopularMedia', 'Clarizen', 'SellPoint', 'LiveDeal',\n",
              "       'NeoEdgeNetworks', 'Zuora', 'Jivox', 'Elastra', 'kwiry',\n",
              "       'SupplyFrame', 'InMageSystems', 'Authenticlick', 'Interneer',\n",
              "       'Handipoints', 'AdconionMediaGroup', 'ZendTechnologies',\n",
              "       'SlideShare', 'Intent', 'WikimediaFoundation', 'ClearwellSystems',\n",
              "       'Become', 'BubbleMotion', 'PerfectMarket', 'Glassdoor',\n",
              "       'SupportSpace', 'Xoopit', 'RealityDigital', 'Cloud9Analytics',\n",
              "       'Netcipia', 'iControl', 'Frengo', 'mBlox', 'eSolar',\n",
              "       'MarinSoftware', 'SiBEAM', 'LumosLabs', 'iRise', 'richrelevance',\n",
              "       'Labmeeting', 'Shopflick', 'TurnHere', 'Coupa', 'SquareTrade',\n",
              "       'V-Enable', 'Aeria', 'Heysan', 'Memeo', 'imageshack', 'PluggedIn',\n",
              "       'CellSpin', 'Remixation', 'TheAuteurs', 'ModernFeed', 'GROU.PS',\n",
              "       'Triggit', 'SeriousBusiness', 'Presdo', 'NileGuide', 'Adify',\n",
              "       'Invensense', \"Center'd\", 'NewRelic', 'GridstoneResearch',\n",
              "       'FusionOps', 'MarketLive', 'SnapLogic', 'Boardwalktech', 'Rosum',\n",
              "       'CitizenHawk', 'DilithiumNetworks', 'Passenger',\n",
              "       'ExperienceProject', 'Mozes', 'rVita', 'Mefeedia',\n",
              "       'WavemakerSoftware', 'VirtualLogix', 'Fonemesh',\n",
              "       'CognitionTechnologies', 'Sometrics', 'SocialVibe', 'deviantART',\n",
              "       'MyThings', 'mywaves', 'litescape', 'nextbio', 'Parascale',\n",
              "       'Row44', 'JellyCloud', 'AsterDataSystems', 'Pixim', 'Funambol',\n",
              "       'Moblyng', 'Zecter', 'Votigo', 'Zinio', 'Dreamfactory',\n",
              "       'GreenNote', 'Skyfire', 'eduFire', 'B-hiveNetworks', 'VMware',\n",
              "       'KatalystMedia', 'NeuroVigil', 'Sylantro', 'TeleFlip', 'Vidshadow',\n",
              "       'Jigsaw', 'OzmoDevices', 'Cooliris', 'Gamook', 'Vindicia',\n",
              "       'Dizzywood', 'Limbo', 'StartForce', 'coolearth', 'YieldSoftware',\n",
              "       'Tapulous', 'Codefast', 'Hyperic', 'iPling:))', 'Intacct',\n",
              "       'Vivaty', 'AuroraBiofuels', 'eEye', 'AllBusiness.com',\n",
              "       'InsideView', 'Clickability', 'KeibiTechnologies', 'RoboDynamics',\n",
              "       'ImageSpan', 'Solarflare', 'Clupedia', 'Zigabid', 'InThrMa',\n",
              "       'Webaroo', 'FluidEntertainment', 'Unisfair', 'ON24', 'trueAnthem',\n",
              "       'Colizer', 'Coremetrics', 'Minted', 'Appirio', 'samfind', 'Eye-Fi',\n",
              "       'ResponseLogix', 'Qumu', 'CarbonFlow', 'Allvoices', 'Moxsie',\n",
              "       'Service-now.com', 'Anvato', 'VantageMedia', 'EntoneTechnologies',\n",
              "       '750Industries', 'PlasticLogic', 'Paymo', 'BrilliantTelecom',\n",
              "       'SkyGrid', 'IntenseDebate', 'AssociatedContent', 'madKast',\n",
              "       'EventVue', 'Socialthing!', 'JSquaredMedia', 'SearchtoPhone',\n",
              "       'Filtrbox', 'Brightkite', 'NewsGator', 'Me.dium', 'Buzzwire',\n",
              "       'HiveLive', 'XAware', 'Lijit', 'hubbuzz', 'Gnip',\n",
              "       'CollectiveIntellect', 'RallySoftware', 'Symplified', 'Indeed',\n",
              "       'Geezeo', 'Entrecard', 'AmericanTowns.com', 'Kayak',\n",
              "       'GoCrossCampus', 'HealthPlanOne', 'YourSurvival', 'MediaLantern',\n",
              "       'GridPoint', 'HotPads', 'LaunchBox', 'Cogent', 'SwapDrive',\n",
              "       'Searchles', 'PayPerPost', 'AffinityInternet', 'Multiply',\n",
              "       'RevolutionMoney', 'Batanga', 'divorce360', 'InfinityBox', 'MOLI',\n",
              "       'GlobalRoaming', 'Slingpage', 'WrapMail', 'eJamming',\n",
              "       'LehighTechnologies', 'TournEase', 'Vitrue', 'ScreamingSports',\n",
              "       'beRecruited', 'MFG', 'ScintellaSolutions', 'ScribeStorm',\n",
              "       'Balihoo', 'Info', 'FeedBurner', 'Viewpoints', 'GrubHub',\n",
              "       'TicketsNow', 'ThePoint', 'Inkling', 'crowdSPRING', 'Ifbyphone',\n",
              "       'FaveMedia', 'Accertify', 'FireflyEnergy', 'SAVO', 'ChaCha',\n",
              "       'BetterWorldBooks', 'CompendiumBlogware', 'Instagarage', 'iSkoot',\n",
              "       'GotuitMedia', 'Carbonite', 'ScanScout', 'Going', 'Brightcove',\n",
              "       'PermissionTV', 'Bountii', 'ConduitLabs', 'ZoomInfo', 'Vlingo',\n",
              "       'Vtap', 'MocoSpace', 'QuattroWireless', 'Care.com', 'OnForce',\n",
              "       'RatePoint', 'UpDown', 'Eons', 'GamerDNA', 'Mix&Meet', 'Sermo',\n",
              "       'WorkLight', 'MatchMine', 'CondoDomain', 'uTest', 'Compete',\n",
              "       'AzukiSystems', 'Acinion', 'xkoto', 'HubSpot', 'Utterz',\n",
              "       'Intronis', 'Acquia', 'A123Systems', 'BostonPower',\n",
              "       'VisibleMeasures', 'Endeca', 'ChoiceStream', 'YouCastr',\n",
              "       'JackPotRewards', 'Mzinga', 'Dimdim', 'utoopia',\n",
              "       'RetailConvergence', 'FrameMedia', 'Turbine', 'Zeer',\n",
              "       'SimpleTuition', 'SirtrisPharmaceuticals', 'GoodData',\n",
              "       'NavicNetworks', 'Pivot', 'Optaros', 'Astaro', 'PangeaMedia',\n",
              "       'Posterous', 'Spire', 'neoSaej', 'GenArts', 'OrderMotion',\n",
              "       'HAM-IT', 'Freewebs', 'MPTrax', 'JackBe', 'ZeniMax',\n",
              "       'Intelliworks', 'HEXIO', 'Foneshow', 'Zattoo', 'LoudClick',\n",
              "       'AgilisSystems', 'InternationalLiarsPokerAssociation',\n",
              "       'ChannelAdvisor', 'Yap', 'PrepChamps', 'SilkRoadtechnology',\n",
              "       'BrightDoorSystems', 'DriftToIt', 'rPath', 'Ntractive',\n",
              "       'BillMeLater', 'AdaptiveBlue', 'Phanfare', 'EnterpriseDB',\n",
              "       'Neocleus', 'Datapipe', 'Switch2Health', 'Voltaix', 'SpaBoom',\n",
              "       'Novint', 'MeetMoi', 'Meetup', 'Mogulus', 'Pando', 'Outside.in',\n",
              "       'SelectMinds', 'Veotag', 'KITdigital', 'ContextWeb', 'DatranMedia',\n",
              "       'Eyeblaster', 'Covestor', 'GlobalGrind', 'Heavy.com', 'SpiralFrog',\n",
              "       'BroadbandEnterprises', 'Thumbplay', 'WaterfrontMedia', 'Tutor',\n",
              "       'Daylife', 'TeachThePeople', 'OrganizedWisdom', 'Snooth', '5min',\n",
              "       'Kaltura', 'Mimeo', 'RayV', 'Tumblr', 'Payoneer', 'eXelate',\n",
              "       'Quigo', 'Peer39', 'RebelMonkey', 'AnswersCorporation', 'SeeToo',\n",
              "       'drop.io', 'Motionbox', 'DGPLabs', 'Ideeli', 'LiveGamer', 'WeShow',\n",
              "       'Etsy', 'PhoneTag', 'TremorMedia', 'YooNew',\n",
              "       'FifthGenerationSystems', 'IGAWorldwide', 'TheLadders', 'Adotube',\n",
              "       'Kluster', 'BlogTalkRadio', 'Pingg', 'Outbrain', 'Mochila', 'OLX',\n",
              "       'Boonty', 'Tripology', 'TheFeedroom', 'NextNewNetworks',\n",
              "       'RiverWired', 'Fynanz', 'DigitalRailroad', 'SiliconAlleyInsider',\n",
              "       'UndertoneNetworks', 'Someecards', 'Trunkt', 'Cutcaster',\n",
              "       'VisibleWorld', 'MadMimi', 'SocialMedian', 'Scanbuy', 'Pontiflex',\n",
              "       'CHIC.TV', 'ExpertFlyer', 'x+1', 'Media6Â¡', 'Knewton',\n",
              "       'SenseNetworks', 'TargetSpot', 'BountyJobs', 'vbstv', 'Instinctiv',\n",
              "       'VISUALPLANT', 'XunLight', 'Strands', 'JiveSoftware', 'Platial',\n",
              "       'GarageGames', 'iovation', 'InGrid', 'Sleep.FM', 'Boomi', 'Styky',\n",
              "       'TotalTakeout', 'RedLasso', 'QponDirect', 'EnergyWebSolutions',\n",
              "       'AriaSystems', 'Vivâ€™simo', 'ShowClix', 'BioWizard', 'TicketLeap',\n",
              "       'Tizra', 'Quickoffice', 'Thoof', 'Bazaarvoice', 'SmallWorldLabs',\n",
              "       'Pluck', 'Spiceworks', 'SpendView', 'Shangby', 'OnNetworks',\n",
              "       'CareFlash', 'HelioVolt', 'ChallengeGames', 'Woot', 'Mumboe',\n",
              "       'BreakingPointSystems', 'FameCast', 'ClickForensics', 'GodTube',\n",
              "       'iBizSoftware', 'Cosential', 'JADTechConsulting', 'Mozy',\n",
              "       'Ancestry.com', 'MoveNetworks', 'WorldVitalRecords', 'BungeeLabs',\n",
              "       'Footnote', 'mediaFORGE', 'TeamStreamz', 'Exinda', 'Clearspring',\n",
              "       'AvailMedia', 'FortiusOne', 'Mixx', 'Jobfox', 'HealthCentral',\n",
              "       'comScore', 'VisualCV', 'Paxfire', 'ShoutWire', 'Parature',\n",
              "       'Loladex', 'Appian', 'Fortisphere', 'Wetpaint', 'Jobster', 'Yapta',\n",
              "       'Farecast', 'HauteSecure', 'Newsvine', 'iLike', 'Redfin',\n",
              "       'ActionEngine', 'Wishpot', 'PayScale', 'BuddyTV', 'JudysBook',\n",
              "       'Sampa', 'Zango', 'Cdigix', 'Ripl', 'EyeJot', 'FlowPlay',\n",
              "       'SmartSheet', 'VisibleTechnologies', 'Zillow', 'SEOMoz',\n",
              "       'DocuSign', 'AdReady', 'Treemo', 'GridNetworks', 'Pelago', 'Blist',\n",
              "       'RealSelf', 'RescueTime', 'Zoji', 'Snapvine', 'Jott',\n",
              "       'EarthClassMail', 'Smilebox', 'Fyreball', 'DelveNetworks',\n",
              "       'LiveMocha', 'MercentCorporation', 'CleverSet', 'LiquidPlanner',\n",
              "       'Limeade', 'Yodio', 'Tastemakers', 'WhitePages.com',\n",
              "       'RevenueScience', 'GotVoice', 'CarDomainNetwork', 'mpire',\n",
              "       'TeachStreet', 'Estately', 'Infinia', 'M:Metrics', 'Cozi',\n",
              "       'Trusera', 'Alerts.com', 'Myrio'], dtype=object)"
            ]
          },
          "metadata": {
            "tags": []
          },
          "execution_count": 299
        }
      ]
    },
    {
      "metadata": {
        "id": "JRd9AwnSy_ln",
        "colab_type": "code",
        "colab": {}
      },
      "cell_type": "code",
      "source": [
        "for col in ('category', 'city_x','permalink'):\n",
        "    Data_median[col] = Data_median[col].fillna('None')"
      ],
      "execution_count": 0,
      "outputs": []
    },
    {
      "metadata": {
        "id": "mNDWwMTM6Qzh",
        "colab_type": "code",
        "outputId": "fd5418a3-c4af-4835-f4ee-b94d3d0d6a12",
        "colab": {
          "base_uri": "https://localhost:8080/",
          "height": 1969
        }
      },
      "cell_type": "code",
      "source": [
        "Data_median.isna()"
      ],
      "execution_count": 301,
      "outputs": [
        {
          "output_type": "execute_result",
          "data": {
            "text/html": [
              "<div>\n",
              "<style scoped>\n",
              "    .dataframe tbody tr th:only-of-type {\n",
              "        vertical-align: middle;\n",
              "    }\n",
              "\n",
              "    .dataframe tbody tr th {\n",
              "        vertical-align: top;\n",
              "    }\n",
              "\n",
              "    .dataframe thead th {\n",
              "        text-align: right;\n",
              "    }\n",
              "</style>\n",
              "<table border=\"1\" class=\"dataframe\">\n",
              "  <thead>\n",
              "    <tr style=\"text-align: right;\">\n",
              "      <th></th>\n",
              "      <th>permalink</th>\n",
              "      <th>company</th>\n",
              "      <th>Employee_count</th>\n",
              "      <th>category</th>\n",
              "      <th>city_x</th>\n",
              "      <th>fundedDate</th>\n",
              "      <th>raisedAmt</th>\n",
              "      <th>raisedCurrency</th>\n",
              "      <th>round</th>\n",
              "      <th>city_y</th>\n",
              "      <th>state</th>\n",
              "    </tr>\n",
              "  </thead>\n",
              "  <tbody>\n",
              "    <tr>\n",
              "      <th>0</th>\n",
              "      <td>False</td>\n",
              "      <td>False</td>\n",
              "      <td>False</td>\n",
              "      <td>False</td>\n",
              "      <td>False</td>\n",
              "      <td>False</td>\n",
              "      <td>False</td>\n",
              "      <td>False</td>\n",
              "      <td>False</td>\n",
              "      <td>False</td>\n",
              "      <td>False</td>\n",
              "    </tr>\n",
              "    <tr>\n",
              "      <th>1</th>\n",
              "      <td>False</td>\n",
              "      <td>False</td>\n",
              "      <td>False</td>\n",
              "      <td>False</td>\n",
              "      <td>False</td>\n",
              "      <td>False</td>\n",
              "      <td>False</td>\n",
              "      <td>False</td>\n",
              "      <td>False</td>\n",
              "      <td>False</td>\n",
              "      <td>False</td>\n",
              "    </tr>\n",
              "    <tr>\n",
              "      <th>2</th>\n",
              "      <td>False</td>\n",
              "      <td>False</td>\n",
              "      <td>False</td>\n",
              "      <td>False</td>\n",
              "      <td>False</td>\n",
              "      <td>False</td>\n",
              "      <td>False</td>\n",
              "      <td>False</td>\n",
              "      <td>False</td>\n",
              "      <td>False</td>\n",
              "      <td>False</td>\n",
              "    </tr>\n",
              "    <tr>\n",
              "      <th>3</th>\n",
              "      <td>False</td>\n",
              "      <td>False</td>\n",
              "      <td>False</td>\n",
              "      <td>False</td>\n",
              "      <td>False</td>\n",
              "      <td>False</td>\n",
              "      <td>False</td>\n",
              "      <td>False</td>\n",
              "      <td>False</td>\n",
              "      <td>False</td>\n",
              "      <td>False</td>\n",
              "    </tr>\n",
              "    <tr>\n",
              "      <th>4</th>\n",
              "      <td>False</td>\n",
              "      <td>False</td>\n",
              "      <td>False</td>\n",
              "      <td>False</td>\n",
              "      <td>False</td>\n",
              "      <td>False</td>\n",
              "      <td>False</td>\n",
              "      <td>False</td>\n",
              "      <td>False</td>\n",
              "      <td>False</td>\n",
              "      <td>False</td>\n",
              "    </tr>\n",
              "    <tr>\n",
              "      <th>5</th>\n",
              "      <td>False</td>\n",
              "      <td>False</td>\n",
              "      <td>False</td>\n",
              "      <td>False</td>\n",
              "      <td>False</td>\n",
              "      <td>False</td>\n",
              "      <td>False</td>\n",
              "      <td>False</td>\n",
              "      <td>False</td>\n",
              "      <td>False</td>\n",
              "      <td>False</td>\n",
              "    </tr>\n",
              "    <tr>\n",
              "      <th>6</th>\n",
              "      <td>False</td>\n",
              "      <td>False</td>\n",
              "      <td>False</td>\n",
              "      <td>False</td>\n",
              "      <td>False</td>\n",
              "      <td>False</td>\n",
              "      <td>False</td>\n",
              "      <td>False</td>\n",
              "      <td>False</td>\n",
              "      <td>False</td>\n",
              "      <td>False</td>\n",
              "    </tr>\n",
              "    <tr>\n",
              "      <th>7</th>\n",
              "      <td>False</td>\n",
              "      <td>False</td>\n",
              "      <td>False</td>\n",
              "      <td>False</td>\n",
              "      <td>False</td>\n",
              "      <td>False</td>\n",
              "      <td>False</td>\n",
              "      <td>False</td>\n",
              "      <td>False</td>\n",
              "      <td>False</td>\n",
              "      <td>False</td>\n",
              "    </tr>\n",
              "    <tr>\n",
              "      <th>8</th>\n",
              "      <td>False</td>\n",
              "      <td>False</td>\n",
              "      <td>False</td>\n",
              "      <td>False</td>\n",
              "      <td>False</td>\n",
              "      <td>False</td>\n",
              "      <td>False</td>\n",
              "      <td>False</td>\n",
              "      <td>False</td>\n",
              "      <td>False</td>\n",
              "      <td>False</td>\n",
              "    </tr>\n",
              "    <tr>\n",
              "      <th>9</th>\n",
              "      <td>False</td>\n",
              "      <td>False</td>\n",
              "      <td>False</td>\n",
              "      <td>False</td>\n",
              "      <td>False</td>\n",
              "      <td>False</td>\n",
              "      <td>False</td>\n",
              "      <td>False</td>\n",
              "      <td>False</td>\n",
              "      <td>False</td>\n",
              "      <td>False</td>\n",
              "    </tr>\n",
              "    <tr>\n",
              "      <th>10</th>\n",
              "      <td>False</td>\n",
              "      <td>False</td>\n",
              "      <td>False</td>\n",
              "      <td>False</td>\n",
              "      <td>False</td>\n",
              "      <td>False</td>\n",
              "      <td>False</td>\n",
              "      <td>False</td>\n",
              "      <td>False</td>\n",
              "      <td>False</td>\n",
              "      <td>False</td>\n",
              "    </tr>\n",
              "    <tr>\n",
              "      <th>11</th>\n",
              "      <td>False</td>\n",
              "      <td>False</td>\n",
              "      <td>False</td>\n",
              "      <td>False</td>\n",
              "      <td>False</td>\n",
              "      <td>False</td>\n",
              "      <td>False</td>\n",
              "      <td>False</td>\n",
              "      <td>False</td>\n",
              "      <td>False</td>\n",
              "      <td>False</td>\n",
              "    </tr>\n",
              "    <tr>\n",
              "      <th>12</th>\n",
              "      <td>False</td>\n",
              "      <td>False</td>\n",
              "      <td>False</td>\n",
              "      <td>False</td>\n",
              "      <td>False</td>\n",
              "      <td>False</td>\n",
              "      <td>False</td>\n",
              "      <td>False</td>\n",
              "      <td>False</td>\n",
              "      <td>False</td>\n",
              "      <td>False</td>\n",
              "    </tr>\n",
              "    <tr>\n",
              "      <th>13</th>\n",
              "      <td>False</td>\n",
              "      <td>False</td>\n",
              "      <td>False</td>\n",
              "      <td>False</td>\n",
              "      <td>False</td>\n",
              "      <td>False</td>\n",
              "      <td>False</td>\n",
              "      <td>False</td>\n",
              "      <td>False</td>\n",
              "      <td>False</td>\n",
              "      <td>False</td>\n",
              "    </tr>\n",
              "    <tr>\n",
              "      <th>14</th>\n",
              "      <td>False</td>\n",
              "      <td>False</td>\n",
              "      <td>False</td>\n",
              "      <td>False</td>\n",
              "      <td>False</td>\n",
              "      <td>False</td>\n",
              "      <td>False</td>\n",
              "      <td>False</td>\n",
              "      <td>False</td>\n",
              "      <td>False</td>\n",
              "      <td>False</td>\n",
              "    </tr>\n",
              "    <tr>\n",
              "      <th>15</th>\n",
              "      <td>False</td>\n",
              "      <td>False</td>\n",
              "      <td>False</td>\n",
              "      <td>False</td>\n",
              "      <td>False</td>\n",
              "      <td>False</td>\n",
              "      <td>False</td>\n",
              "      <td>False</td>\n",
              "      <td>False</td>\n",
              "      <td>False</td>\n",
              "      <td>False</td>\n",
              "    </tr>\n",
              "    <tr>\n",
              "      <th>16</th>\n",
              "      <td>False</td>\n",
              "      <td>False</td>\n",
              "      <td>False</td>\n",
              "      <td>False</td>\n",
              "      <td>False</td>\n",
              "      <td>False</td>\n",
              "      <td>False</td>\n",
              "      <td>False</td>\n",
              "      <td>False</td>\n",
              "      <td>False</td>\n",
              "      <td>False</td>\n",
              "    </tr>\n",
              "    <tr>\n",
              "      <th>17</th>\n",
              "      <td>False</td>\n",
              "      <td>False</td>\n",
              "      <td>False</td>\n",
              "      <td>False</td>\n",
              "      <td>False</td>\n",
              "      <td>False</td>\n",
              "      <td>False</td>\n",
              "      <td>False</td>\n",
              "      <td>False</td>\n",
              "      <td>False</td>\n",
              "      <td>False</td>\n",
              "    </tr>\n",
              "    <tr>\n",
              "      <th>18</th>\n",
              "      <td>False</td>\n",
              "      <td>False</td>\n",
              "      <td>False</td>\n",
              "      <td>False</td>\n",
              "      <td>False</td>\n",
              "      <td>False</td>\n",
              "      <td>False</td>\n",
              "      <td>False</td>\n",
              "      <td>False</td>\n",
              "      <td>False</td>\n",
              "      <td>False</td>\n",
              "    </tr>\n",
              "    <tr>\n",
              "      <th>19</th>\n",
              "      <td>False</td>\n",
              "      <td>False</td>\n",
              "      <td>False</td>\n",
              "      <td>False</td>\n",
              "      <td>False</td>\n",
              "      <td>False</td>\n",
              "      <td>False</td>\n",
              "      <td>False</td>\n",
              "      <td>False</td>\n",
              "      <td>False</td>\n",
              "      <td>False</td>\n",
              "    </tr>\n",
              "    <tr>\n",
              "      <th>20</th>\n",
              "      <td>False</td>\n",
              "      <td>False</td>\n",
              "      <td>False</td>\n",
              "      <td>False</td>\n",
              "      <td>False</td>\n",
              "      <td>False</td>\n",
              "      <td>False</td>\n",
              "      <td>False</td>\n",
              "      <td>False</td>\n",
              "      <td>False</td>\n",
              "      <td>False</td>\n",
              "    </tr>\n",
              "    <tr>\n",
              "      <th>21</th>\n",
              "      <td>False</td>\n",
              "      <td>False</td>\n",
              "      <td>False</td>\n",
              "      <td>False</td>\n",
              "      <td>False</td>\n",
              "      <td>False</td>\n",
              "      <td>False</td>\n",
              "      <td>False</td>\n",
              "      <td>False</td>\n",
              "      <td>False</td>\n",
              "      <td>False</td>\n",
              "    </tr>\n",
              "    <tr>\n",
              "      <th>22</th>\n",
              "      <td>False</td>\n",
              "      <td>False</td>\n",
              "      <td>False</td>\n",
              "      <td>False</td>\n",
              "      <td>False</td>\n",
              "      <td>False</td>\n",
              "      <td>False</td>\n",
              "      <td>False</td>\n",
              "      <td>False</td>\n",
              "      <td>False</td>\n",
              "      <td>False</td>\n",
              "    </tr>\n",
              "    <tr>\n",
              "      <th>23</th>\n",
              "      <td>False</td>\n",
              "      <td>False</td>\n",
              "      <td>False</td>\n",
              "      <td>False</td>\n",
              "      <td>False</td>\n",
              "      <td>False</td>\n",
              "      <td>False</td>\n",
              "      <td>False</td>\n",
              "      <td>False</td>\n",
              "      <td>False</td>\n",
              "      <td>False</td>\n",
              "    </tr>\n",
              "    <tr>\n",
              "      <th>24</th>\n",
              "      <td>False</td>\n",
              "      <td>False</td>\n",
              "      <td>False</td>\n",
              "      <td>False</td>\n",
              "      <td>False</td>\n",
              "      <td>False</td>\n",
              "      <td>False</td>\n",
              "      <td>False</td>\n",
              "      <td>False</td>\n",
              "      <td>False</td>\n",
              "      <td>False</td>\n",
              "    </tr>\n",
              "    <tr>\n",
              "      <th>25</th>\n",
              "      <td>False</td>\n",
              "      <td>False</td>\n",
              "      <td>False</td>\n",
              "      <td>False</td>\n",
              "      <td>False</td>\n",
              "      <td>False</td>\n",
              "      <td>False</td>\n",
              "      <td>False</td>\n",
              "      <td>False</td>\n",
              "      <td>False</td>\n",
              "      <td>False</td>\n",
              "    </tr>\n",
              "    <tr>\n",
              "      <th>26</th>\n",
              "      <td>False</td>\n",
              "      <td>False</td>\n",
              "      <td>False</td>\n",
              "      <td>False</td>\n",
              "      <td>False</td>\n",
              "      <td>False</td>\n",
              "      <td>False</td>\n",
              "      <td>False</td>\n",
              "      <td>False</td>\n",
              "      <td>False</td>\n",
              "      <td>False</td>\n",
              "    </tr>\n",
              "    <tr>\n",
              "      <th>27</th>\n",
              "      <td>False</td>\n",
              "      <td>False</td>\n",
              "      <td>False</td>\n",
              "      <td>False</td>\n",
              "      <td>False</td>\n",
              "      <td>False</td>\n",
              "      <td>False</td>\n",
              "      <td>False</td>\n",
              "      <td>False</td>\n",
              "      <td>False</td>\n",
              "      <td>False</td>\n",
              "    </tr>\n",
              "    <tr>\n",
              "      <th>28</th>\n",
              "      <td>False</td>\n",
              "      <td>False</td>\n",
              "      <td>False</td>\n",
              "      <td>False</td>\n",
              "      <td>False</td>\n",
              "      <td>False</td>\n",
              "      <td>False</td>\n",
              "      <td>False</td>\n",
              "      <td>False</td>\n",
              "      <td>False</td>\n",
              "      <td>False</td>\n",
              "    </tr>\n",
              "    <tr>\n",
              "      <th>29</th>\n",
              "      <td>False</td>\n",
              "      <td>False</td>\n",
              "      <td>False</td>\n",
              "      <td>False</td>\n",
              "      <td>False</td>\n",
              "      <td>False</td>\n",
              "      <td>False</td>\n",
              "      <td>False</td>\n",
              "      <td>False</td>\n",
              "      <td>False</td>\n",
              "      <td>False</td>\n",
              "    </tr>\n",
              "    <tr>\n",
              "      <th>...</th>\n",
              "      <td>...</td>\n",
              "      <td>...</td>\n",
              "      <td>...</td>\n",
              "      <td>...</td>\n",
              "      <td>...</td>\n",
              "      <td>...</td>\n",
              "      <td>...</td>\n",
              "      <td>...</td>\n",
              "      <td>...</td>\n",
              "      <td>...</td>\n",
              "      <td>...</td>\n",
              "    </tr>\n",
              "    <tr>\n",
              "      <th>1430</th>\n",
              "      <td>False</td>\n",
              "      <td>False</td>\n",
              "      <td>False</td>\n",
              "      <td>False</td>\n",
              "      <td>False</td>\n",
              "      <td>False</td>\n",
              "      <td>False</td>\n",
              "      <td>False</td>\n",
              "      <td>False</td>\n",
              "      <td>False</td>\n",
              "      <td>False</td>\n",
              "    </tr>\n",
              "    <tr>\n",
              "      <th>1431</th>\n",
              "      <td>False</td>\n",
              "      <td>False</td>\n",
              "      <td>False</td>\n",
              "      <td>False</td>\n",
              "      <td>False</td>\n",
              "      <td>False</td>\n",
              "      <td>False</td>\n",
              "      <td>False</td>\n",
              "      <td>False</td>\n",
              "      <td>False</td>\n",
              "      <td>False</td>\n",
              "    </tr>\n",
              "    <tr>\n",
              "      <th>1432</th>\n",
              "      <td>False</td>\n",
              "      <td>False</td>\n",
              "      <td>False</td>\n",
              "      <td>False</td>\n",
              "      <td>False</td>\n",
              "      <td>False</td>\n",
              "      <td>False</td>\n",
              "      <td>False</td>\n",
              "      <td>False</td>\n",
              "      <td>False</td>\n",
              "      <td>False</td>\n",
              "    </tr>\n",
              "    <tr>\n",
              "      <th>1433</th>\n",
              "      <td>False</td>\n",
              "      <td>False</td>\n",
              "      <td>False</td>\n",
              "      <td>False</td>\n",
              "      <td>False</td>\n",
              "      <td>False</td>\n",
              "      <td>False</td>\n",
              "      <td>False</td>\n",
              "      <td>False</td>\n",
              "      <td>False</td>\n",
              "      <td>False</td>\n",
              "    </tr>\n",
              "    <tr>\n",
              "      <th>1434</th>\n",
              "      <td>False</td>\n",
              "      <td>False</td>\n",
              "      <td>False</td>\n",
              "      <td>False</td>\n",
              "      <td>False</td>\n",
              "      <td>False</td>\n",
              "      <td>False</td>\n",
              "      <td>False</td>\n",
              "      <td>False</td>\n",
              "      <td>False</td>\n",
              "      <td>False</td>\n",
              "    </tr>\n",
              "    <tr>\n",
              "      <th>1435</th>\n",
              "      <td>False</td>\n",
              "      <td>False</td>\n",
              "      <td>False</td>\n",
              "      <td>False</td>\n",
              "      <td>False</td>\n",
              "      <td>False</td>\n",
              "      <td>False</td>\n",
              "      <td>False</td>\n",
              "      <td>False</td>\n",
              "      <td>False</td>\n",
              "      <td>False</td>\n",
              "    </tr>\n",
              "    <tr>\n",
              "      <th>1436</th>\n",
              "      <td>False</td>\n",
              "      <td>False</td>\n",
              "      <td>False</td>\n",
              "      <td>False</td>\n",
              "      <td>False</td>\n",
              "      <td>False</td>\n",
              "      <td>False</td>\n",
              "      <td>False</td>\n",
              "      <td>False</td>\n",
              "      <td>False</td>\n",
              "      <td>False</td>\n",
              "    </tr>\n",
              "    <tr>\n",
              "      <th>1437</th>\n",
              "      <td>False</td>\n",
              "      <td>False</td>\n",
              "      <td>False</td>\n",
              "      <td>False</td>\n",
              "      <td>False</td>\n",
              "      <td>False</td>\n",
              "      <td>False</td>\n",
              "      <td>False</td>\n",
              "      <td>False</td>\n",
              "      <td>False</td>\n",
              "      <td>False</td>\n",
              "    </tr>\n",
              "    <tr>\n",
              "      <th>1438</th>\n",
              "      <td>False</td>\n",
              "      <td>False</td>\n",
              "      <td>False</td>\n",
              "      <td>False</td>\n",
              "      <td>False</td>\n",
              "      <td>False</td>\n",
              "      <td>False</td>\n",
              "      <td>False</td>\n",
              "      <td>False</td>\n",
              "      <td>False</td>\n",
              "      <td>False</td>\n",
              "    </tr>\n",
              "    <tr>\n",
              "      <th>1439</th>\n",
              "      <td>False</td>\n",
              "      <td>False</td>\n",
              "      <td>False</td>\n",
              "      <td>False</td>\n",
              "      <td>False</td>\n",
              "      <td>False</td>\n",
              "      <td>False</td>\n",
              "      <td>False</td>\n",
              "      <td>False</td>\n",
              "      <td>False</td>\n",
              "      <td>False</td>\n",
              "    </tr>\n",
              "    <tr>\n",
              "      <th>1440</th>\n",
              "      <td>False</td>\n",
              "      <td>False</td>\n",
              "      <td>False</td>\n",
              "      <td>False</td>\n",
              "      <td>False</td>\n",
              "      <td>False</td>\n",
              "      <td>False</td>\n",
              "      <td>False</td>\n",
              "      <td>False</td>\n",
              "      <td>False</td>\n",
              "      <td>False</td>\n",
              "    </tr>\n",
              "    <tr>\n",
              "      <th>1441</th>\n",
              "      <td>False</td>\n",
              "      <td>False</td>\n",
              "      <td>False</td>\n",
              "      <td>False</td>\n",
              "      <td>False</td>\n",
              "      <td>False</td>\n",
              "      <td>False</td>\n",
              "      <td>False</td>\n",
              "      <td>False</td>\n",
              "      <td>False</td>\n",
              "      <td>False</td>\n",
              "    </tr>\n",
              "    <tr>\n",
              "      <th>1442</th>\n",
              "      <td>False</td>\n",
              "      <td>False</td>\n",
              "      <td>False</td>\n",
              "      <td>False</td>\n",
              "      <td>False</td>\n",
              "      <td>False</td>\n",
              "      <td>False</td>\n",
              "      <td>False</td>\n",
              "      <td>False</td>\n",
              "      <td>False</td>\n",
              "      <td>False</td>\n",
              "    </tr>\n",
              "    <tr>\n",
              "      <th>1443</th>\n",
              "      <td>False</td>\n",
              "      <td>False</td>\n",
              "      <td>False</td>\n",
              "      <td>False</td>\n",
              "      <td>False</td>\n",
              "      <td>False</td>\n",
              "      <td>False</td>\n",
              "      <td>False</td>\n",
              "      <td>False</td>\n",
              "      <td>False</td>\n",
              "      <td>False</td>\n",
              "    </tr>\n",
              "    <tr>\n",
              "      <th>1444</th>\n",
              "      <td>False</td>\n",
              "      <td>False</td>\n",
              "      <td>False</td>\n",
              "      <td>False</td>\n",
              "      <td>False</td>\n",
              "      <td>False</td>\n",
              "      <td>False</td>\n",
              "      <td>False</td>\n",
              "      <td>False</td>\n",
              "      <td>False</td>\n",
              "      <td>False</td>\n",
              "    </tr>\n",
              "    <tr>\n",
              "      <th>1445</th>\n",
              "      <td>False</td>\n",
              "      <td>False</td>\n",
              "      <td>False</td>\n",
              "      <td>False</td>\n",
              "      <td>False</td>\n",
              "      <td>False</td>\n",
              "      <td>False</td>\n",
              "      <td>False</td>\n",
              "      <td>False</td>\n",
              "      <td>False</td>\n",
              "      <td>False</td>\n",
              "    </tr>\n",
              "    <tr>\n",
              "      <th>1446</th>\n",
              "      <td>False</td>\n",
              "      <td>False</td>\n",
              "      <td>False</td>\n",
              "      <td>False</td>\n",
              "      <td>False</td>\n",
              "      <td>False</td>\n",
              "      <td>False</td>\n",
              "      <td>False</td>\n",
              "      <td>False</td>\n",
              "      <td>False</td>\n",
              "      <td>False</td>\n",
              "    </tr>\n",
              "    <tr>\n",
              "      <th>1447</th>\n",
              "      <td>False</td>\n",
              "      <td>False</td>\n",
              "      <td>False</td>\n",
              "      <td>False</td>\n",
              "      <td>False</td>\n",
              "      <td>False</td>\n",
              "      <td>False</td>\n",
              "      <td>False</td>\n",
              "      <td>False</td>\n",
              "      <td>False</td>\n",
              "      <td>False</td>\n",
              "    </tr>\n",
              "    <tr>\n",
              "      <th>1448</th>\n",
              "      <td>False</td>\n",
              "      <td>False</td>\n",
              "      <td>False</td>\n",
              "      <td>False</td>\n",
              "      <td>False</td>\n",
              "      <td>False</td>\n",
              "      <td>False</td>\n",
              "      <td>False</td>\n",
              "      <td>False</td>\n",
              "      <td>False</td>\n",
              "      <td>False</td>\n",
              "    </tr>\n",
              "    <tr>\n",
              "      <th>1449</th>\n",
              "      <td>False</td>\n",
              "      <td>False</td>\n",
              "      <td>False</td>\n",
              "      <td>False</td>\n",
              "      <td>False</td>\n",
              "      <td>False</td>\n",
              "      <td>False</td>\n",
              "      <td>False</td>\n",
              "      <td>False</td>\n",
              "      <td>False</td>\n",
              "      <td>False</td>\n",
              "    </tr>\n",
              "    <tr>\n",
              "      <th>1450</th>\n",
              "      <td>False</td>\n",
              "      <td>False</td>\n",
              "      <td>False</td>\n",
              "      <td>False</td>\n",
              "      <td>False</td>\n",
              "      <td>False</td>\n",
              "      <td>False</td>\n",
              "      <td>False</td>\n",
              "      <td>False</td>\n",
              "      <td>False</td>\n",
              "      <td>False</td>\n",
              "    </tr>\n",
              "    <tr>\n",
              "      <th>1451</th>\n",
              "      <td>False</td>\n",
              "      <td>False</td>\n",
              "      <td>False</td>\n",
              "      <td>False</td>\n",
              "      <td>False</td>\n",
              "      <td>False</td>\n",
              "      <td>False</td>\n",
              "      <td>False</td>\n",
              "      <td>False</td>\n",
              "      <td>False</td>\n",
              "      <td>False</td>\n",
              "    </tr>\n",
              "    <tr>\n",
              "      <th>1452</th>\n",
              "      <td>False</td>\n",
              "      <td>False</td>\n",
              "      <td>False</td>\n",
              "      <td>False</td>\n",
              "      <td>False</td>\n",
              "      <td>False</td>\n",
              "      <td>False</td>\n",
              "      <td>False</td>\n",
              "      <td>False</td>\n",
              "      <td>False</td>\n",
              "      <td>False</td>\n",
              "    </tr>\n",
              "    <tr>\n",
              "      <th>1453</th>\n",
              "      <td>False</td>\n",
              "      <td>False</td>\n",
              "      <td>False</td>\n",
              "      <td>False</td>\n",
              "      <td>False</td>\n",
              "      <td>False</td>\n",
              "      <td>False</td>\n",
              "      <td>False</td>\n",
              "      <td>False</td>\n",
              "      <td>False</td>\n",
              "      <td>False</td>\n",
              "    </tr>\n",
              "    <tr>\n",
              "      <th>1454</th>\n",
              "      <td>False</td>\n",
              "      <td>False</td>\n",
              "      <td>False</td>\n",
              "      <td>False</td>\n",
              "      <td>False</td>\n",
              "      <td>False</td>\n",
              "      <td>False</td>\n",
              "      <td>False</td>\n",
              "      <td>False</td>\n",
              "      <td>False</td>\n",
              "      <td>False</td>\n",
              "    </tr>\n",
              "    <tr>\n",
              "      <th>1455</th>\n",
              "      <td>False</td>\n",
              "      <td>False</td>\n",
              "      <td>False</td>\n",
              "      <td>False</td>\n",
              "      <td>False</td>\n",
              "      <td>False</td>\n",
              "      <td>False</td>\n",
              "      <td>False</td>\n",
              "      <td>False</td>\n",
              "      <td>False</td>\n",
              "      <td>False</td>\n",
              "    </tr>\n",
              "    <tr>\n",
              "      <th>1456</th>\n",
              "      <td>False</td>\n",
              "      <td>False</td>\n",
              "      <td>False</td>\n",
              "      <td>False</td>\n",
              "      <td>False</td>\n",
              "      <td>False</td>\n",
              "      <td>False</td>\n",
              "      <td>False</td>\n",
              "      <td>False</td>\n",
              "      <td>False</td>\n",
              "      <td>False</td>\n",
              "    </tr>\n",
              "    <tr>\n",
              "      <th>1457</th>\n",
              "      <td>False</td>\n",
              "      <td>False</td>\n",
              "      <td>False</td>\n",
              "      <td>False</td>\n",
              "      <td>False</td>\n",
              "      <td>False</td>\n",
              "      <td>False</td>\n",
              "      <td>False</td>\n",
              "      <td>False</td>\n",
              "      <td>False</td>\n",
              "      <td>False</td>\n",
              "    </tr>\n",
              "    <tr>\n",
              "      <th>1458</th>\n",
              "      <td>False</td>\n",
              "      <td>False</td>\n",
              "      <td>False</td>\n",
              "      <td>False</td>\n",
              "      <td>False</td>\n",
              "      <td>False</td>\n",
              "      <td>False</td>\n",
              "      <td>False</td>\n",
              "      <td>False</td>\n",
              "      <td>False</td>\n",
              "      <td>False</td>\n",
              "    </tr>\n",
              "    <tr>\n",
              "      <th>1459</th>\n",
              "      <td>False</td>\n",
              "      <td>False</td>\n",
              "      <td>False</td>\n",
              "      <td>False</td>\n",
              "      <td>False</td>\n",
              "      <td>False</td>\n",
              "      <td>False</td>\n",
              "      <td>False</td>\n",
              "      <td>False</td>\n",
              "      <td>False</td>\n",
              "      <td>False</td>\n",
              "    </tr>\n",
              "  </tbody>\n",
              "</table>\n",
              "<p>1460 rows × 11 columns</p>\n",
              "</div>"
            ],
            "text/plain": [
              "      permalink  company  Employee_count  category  city_x  fundedDate  \\\n",
              "0         False    False           False     False   False       False   \n",
              "1         False    False           False     False   False       False   \n",
              "2         False    False           False     False   False       False   \n",
              "3         False    False           False     False   False       False   \n",
              "4         False    False           False     False   False       False   \n",
              "5         False    False           False     False   False       False   \n",
              "6         False    False           False     False   False       False   \n",
              "7         False    False           False     False   False       False   \n",
              "8         False    False           False     False   False       False   \n",
              "9         False    False           False     False   False       False   \n",
              "10        False    False           False     False   False       False   \n",
              "11        False    False           False     False   False       False   \n",
              "12        False    False           False     False   False       False   \n",
              "13        False    False           False     False   False       False   \n",
              "14        False    False           False     False   False       False   \n",
              "15        False    False           False     False   False       False   \n",
              "16        False    False           False     False   False       False   \n",
              "17        False    False           False     False   False       False   \n",
              "18        False    False           False     False   False       False   \n",
              "19        False    False           False     False   False       False   \n",
              "20        False    False           False     False   False       False   \n",
              "21        False    False           False     False   False       False   \n",
              "22        False    False           False     False   False       False   \n",
              "23        False    False           False     False   False       False   \n",
              "24        False    False           False     False   False       False   \n",
              "25        False    False           False     False   False       False   \n",
              "26        False    False           False     False   False       False   \n",
              "27        False    False           False     False   False       False   \n",
              "28        False    False           False     False   False       False   \n",
              "29        False    False           False     False   False       False   \n",
              "...         ...      ...             ...       ...     ...         ...   \n",
              "1430      False    False           False     False   False       False   \n",
              "1431      False    False           False     False   False       False   \n",
              "1432      False    False           False     False   False       False   \n",
              "1433      False    False           False     False   False       False   \n",
              "1434      False    False           False     False   False       False   \n",
              "1435      False    False           False     False   False       False   \n",
              "1436      False    False           False     False   False       False   \n",
              "1437      False    False           False     False   False       False   \n",
              "1438      False    False           False     False   False       False   \n",
              "1439      False    False           False     False   False       False   \n",
              "1440      False    False           False     False   False       False   \n",
              "1441      False    False           False     False   False       False   \n",
              "1442      False    False           False     False   False       False   \n",
              "1443      False    False           False     False   False       False   \n",
              "1444      False    False           False     False   False       False   \n",
              "1445      False    False           False     False   False       False   \n",
              "1446      False    False           False     False   False       False   \n",
              "1447      False    False           False     False   False       False   \n",
              "1448      False    False           False     False   False       False   \n",
              "1449      False    False           False     False   False       False   \n",
              "1450      False    False           False     False   False       False   \n",
              "1451      False    False           False     False   False       False   \n",
              "1452      False    False           False     False   False       False   \n",
              "1453      False    False           False     False   False       False   \n",
              "1454      False    False           False     False   False       False   \n",
              "1455      False    False           False     False   False       False   \n",
              "1456      False    False           False     False   False       False   \n",
              "1457      False    False           False     False   False       False   \n",
              "1458      False    False           False     False   False       False   \n",
              "1459      False    False           False     False   False       False   \n",
              "\n",
              "      raisedAmt  raisedCurrency  round  city_y  state  \n",
              "0         False           False  False   False  False  \n",
              "1         False           False  False   False  False  \n",
              "2         False           False  False   False  False  \n",
              "3         False           False  False   False  False  \n",
              "4         False           False  False   False  False  \n",
              "5         False           False  False   False  False  \n",
              "6         False           False  False   False  False  \n",
              "7         False           False  False   False  False  \n",
              "8         False           False  False   False  False  \n",
              "9         False           False  False   False  False  \n",
              "10        False           False  False   False  False  \n",
              "11        False           False  False   False  False  \n",
              "12        False           False  False   False  False  \n",
              "13        False           False  False   False  False  \n",
              "14        False           False  False   False  False  \n",
              "15        False           False  False   False  False  \n",
              "16        False           False  False   False  False  \n",
              "17        False           False  False   False  False  \n",
              "18        False           False  False   False  False  \n",
              "19        False           False  False   False  False  \n",
              "20        False           False  False   False  False  \n",
              "21        False           False  False   False  False  \n",
              "22        False           False  False   False  False  \n",
              "23        False           False  False   False  False  \n",
              "24        False           False  False   False  False  \n",
              "25        False           False  False   False  False  \n",
              "26        False           False  False   False  False  \n",
              "27        False           False  False   False  False  \n",
              "28        False           False  False   False  False  \n",
              "29        False           False  False   False  False  \n",
              "...         ...             ...    ...     ...    ...  \n",
              "1430      False           False  False   False  False  \n",
              "1431      False           False  False   False  False  \n",
              "1432      False           False  False   False  False  \n",
              "1433      False           False  False   False  False  \n",
              "1434      False           False  False   False  False  \n",
              "1435      False           False  False   False  False  \n",
              "1436      False           False  False   False  False  \n",
              "1437      False           False  False   False  False  \n",
              "1438      False           False  False   False  False  \n",
              "1439      False           False  False   False  False  \n",
              "1440      False           False  False   False  False  \n",
              "1441      False           False  False   False  False  \n",
              "1442      False           False  False   False  False  \n",
              "1443      False           False  False   False  False  \n",
              "1444      False           False  False   False  False  \n",
              "1445      False           False  False   False  False  \n",
              "1446      False           False  False   False  False  \n",
              "1447      False           False  False   False  False  \n",
              "1448      False           False  False   False  False  \n",
              "1449      False           False  False   False  False  \n",
              "1450      False           False  False   False  False  \n",
              "1451      False           False  False   False  False  \n",
              "1452      False           False  False   False  False  \n",
              "1453      False           False  False   False  False  \n",
              "1454      False           False  False   False  False  \n",
              "1455      False           False  False   False  False  \n",
              "1456      False           False  False   False  False  \n",
              "1457      False           False  False   False  False  \n",
              "1458      False           False  False   False  False  \n",
              "1459      False           False  False   False  False  \n",
              "\n",
              "[1460 rows x 11 columns]"
            ]
          },
          "metadata": {
            "tags": []
          },
          "execution_count": 301
        }
      ]
    },
    {
      "metadata": {
        "id": "q7707IFUzW1k",
        "colab_type": "code",
        "outputId": "a71910e6-7919-4d26-e92f-558b24419427",
        "colab": {
          "base_uri": "https://localhost:8080/",
          "height": 204
        }
      },
      "cell_type": "code",
      "source": [
        "Data_median.head()"
      ],
      "execution_count": 302,
      "outputs": [
        {
          "output_type": "execute_result",
          "data": {
            "text/html": [
              "<div>\n",
              "<style scoped>\n",
              "    .dataframe tbody tr th:only-of-type {\n",
              "        vertical-align: middle;\n",
              "    }\n",
              "\n",
              "    .dataframe tbody tr th {\n",
              "        vertical-align: top;\n",
              "    }\n",
              "\n",
              "    .dataframe thead th {\n",
              "        text-align: right;\n",
              "    }\n",
              "</style>\n",
              "<table border=\"1\" class=\"dataframe\">\n",
              "  <thead>\n",
              "    <tr style=\"text-align: right;\">\n",
              "      <th></th>\n",
              "      <th>permalink</th>\n",
              "      <th>company</th>\n",
              "      <th>Employee_count</th>\n",
              "      <th>category</th>\n",
              "      <th>city_x</th>\n",
              "      <th>fundedDate</th>\n",
              "      <th>raisedAmt</th>\n",
              "      <th>raisedCurrency</th>\n",
              "      <th>round</th>\n",
              "      <th>city_y</th>\n",
              "      <th>state</th>\n",
              "    </tr>\n",
              "  </thead>\n",
              "  <tbody>\n",
              "    <tr>\n",
              "      <th>0</th>\n",
              "      <td>lifelock-5</td>\n",
              "      <td>LifeLock</td>\n",
              "      <td>95.72134</td>\n",
              "      <td>web</td>\n",
              "      <td>Tempe</td>\n",
              "      <td>39203</td>\n",
              "      <td>6850000.0</td>\n",
              "      <td>USD</td>\n",
              "      <td>b</td>\n",
              "      <td>Gilb</td>\n",
              "      <td>AZ</td>\n",
              "    </tr>\n",
              "    <tr>\n",
              "      <th>1</th>\n",
              "      <td>lifelock-3</td>\n",
              "      <td>LifeLock</td>\n",
              "      <td>95.72134</td>\n",
              "      <td>web</td>\n",
              "      <td>Tempe</td>\n",
              "      <td>38991</td>\n",
              "      <td>6000000.0</td>\n",
              "      <td>USD</td>\n",
              "      <td>a</td>\n",
              "      <td>Phoe</td>\n",
              "      <td>AZ</td>\n",
              "    </tr>\n",
              "    <tr>\n",
              "      <th>2</th>\n",
              "      <td>None</td>\n",
              "      <td>LifeLock</td>\n",
              "      <td>95.72134</td>\n",
              "      <td>web</td>\n",
              "      <td>None</td>\n",
              "      <td>39448</td>\n",
              "      <td>25000000.0</td>\n",
              "      <td>USD</td>\n",
              "      <td>c</td>\n",
              "      <td>Scottsd</td>\n",
              "      <td>AZ</td>\n",
              "    </tr>\n",
              "    <tr>\n",
              "      <th>3</th>\n",
              "      <td>mycityfaces-4</td>\n",
              "      <td>MyCityFaces</td>\n",
              "      <td>7.00000</td>\n",
              "      <td>web</td>\n",
              "      <td>Scottsdale</td>\n",
              "      <td>39448</td>\n",
              "      <td>50000.0</td>\n",
              "      <td>USD</td>\n",
              "      <td>seed</td>\n",
              "      <td>Scottsd</td>\n",
              "      <td>AZ</td>\n",
              "    </tr>\n",
              "    <tr>\n",
              "      <th>4</th>\n",
              "      <td>flypaper-3</td>\n",
              "      <td>Flypaper</td>\n",
              "      <td>95.72134</td>\n",
              "      <td>web</td>\n",
              "      <td>Phoenix</td>\n",
              "      <td>39479</td>\n",
              "      <td>3000000.0</td>\n",
              "      <td>USD</td>\n",
              "      <td>a</td>\n",
              "      <td>Scottsd</td>\n",
              "      <td>AZ</td>\n",
              "    </tr>\n",
              "  </tbody>\n",
              "</table>\n",
              "</div>"
            ],
            "text/plain": [
              "       permalink      company  Employee_count category      city_x  \\\n",
              "0     lifelock-5     LifeLock        95.72134      web       Tempe   \n",
              "1     lifelock-3     LifeLock        95.72134      web       Tempe   \n",
              "2           None     LifeLock        95.72134      web        None   \n",
              "3  mycityfaces-4  MyCityFaces         7.00000      web  Scottsdale   \n",
              "4     flypaper-3     Flypaper        95.72134      web     Phoenix   \n",
              "\n",
              "   fundedDate   raisedAmt raisedCurrency round   city_y state  \n",
              "0       39203   6850000.0            USD     b     Gilb    AZ  \n",
              "1       38991   6000000.0            USD     a     Phoe    AZ  \n",
              "2       39448  25000000.0            USD     c  Scottsd    AZ  \n",
              "3       39448     50000.0            USD  seed  Scottsd    AZ  \n",
              "4       39479   3000000.0            USD     a  Scottsd    AZ  "
            ]
          },
          "metadata": {
            "tags": []
          },
          "execution_count": 302
        }
      ]
    },
    {
      "metadata": {
        "id": "xviqYt_l1tsB",
        "colab_type": "code",
        "outputId": "cd054d6d-53ec-449c-e295-14401a4d4c32",
        "colab": {
          "base_uri": "https://localhost:8080/",
          "height": 49
        }
      },
      "cell_type": "code",
      "source": [
        "all_data_na = (Data_median.isnull().sum() / len(Data_median)) * 100\n",
        "all_data_na = all_data_na.drop(all_data_na[all_data_na == 0].index).sort_values(ascending=False)[:30]\n",
        "missing_data = pd.DataFrame({'Missing Ratio' :all_data_na})\n",
        "missing_data.head(20)"
      ],
      "execution_count": 303,
      "outputs": [
        {
          "output_type": "execute_result",
          "data": {
            "text/html": [
              "<div>\n",
              "<style scoped>\n",
              "    .dataframe tbody tr th:only-of-type {\n",
              "        vertical-align: middle;\n",
              "    }\n",
              "\n",
              "    .dataframe tbody tr th {\n",
              "        vertical-align: top;\n",
              "    }\n",
              "\n",
              "    .dataframe thead th {\n",
              "        text-align: right;\n",
              "    }\n",
              "</style>\n",
              "<table border=\"1\" class=\"dataframe\">\n",
              "  <thead>\n",
              "    <tr style=\"text-align: right;\">\n",
              "      <th></th>\n",
              "      <th>Missing Ratio</th>\n",
              "    </tr>\n",
              "  </thead>\n",
              "  <tbody>\n",
              "  </tbody>\n",
              "</table>\n",
              "</div>"
            ],
            "text/plain": [
              "Empty DataFrame\n",
              "Columns: [Missing Ratio]\n",
              "Index: []"
            ]
          },
          "metadata": {
            "tags": []
          },
          "execution_count": 303
        }
      ]
    },
    {
      "metadata": {
        "id": "eWpQ6Zxt2M6h",
        "colab_type": "code",
        "outputId": "3ae025fc-d8f1-452a-d533-72a3250d6780",
        "colab": {
          "base_uri": "https://localhost:8080/",
          "height": 221
        }
      },
      "cell_type": "code",
      "source": [
        "# You will get to know which column has missing value and it's give the count that how many records are missing \n",
        "Data_median.isnull().sum()"
      ],
      "execution_count": 305,
      "outputs": [
        {
          "output_type": "execute_result",
          "data": {
            "text/plain": [
              "permalink         0\n",
              "company           0\n",
              "Employee_count    0\n",
              "category          0\n",
              "city_x            0\n",
              "fundedDate        0\n",
              "raisedAmt         0\n",
              "raisedCurrency    0\n",
              "round             0\n",
              "city_y            0\n",
              "state             0\n",
              "dtype: int64"
            ]
          },
          "metadata": {
            "tags": []
          },
          "execution_count": 305
        }
      ]
    },
    {
      "metadata": {
        "id": "C3BNTFa3zmBV",
        "colab_type": "code",
        "outputId": "a4cd2139-54fd-41f1-9a56-81b106e916a5",
        "colab": {
          "base_uri": "https://localhost:8080/",
          "height": 51
        }
      },
      "cell_type": "code",
      "source": [
        "pd.unique(Data_median[['permalink']].values.ravel('K'))"
      ],
      "execution_count": 306,
      "outputs": [
        {
          "output_type": "execute_result",
          "data": {
            "text/plain": [
              "array(['lifelock-5', 'lifelock-3', 'None', ..., 'myrio-2',\n",
              "       'grid-networks-7', 'grid-networks-3'], dtype=object)"
            ]
          },
          "metadata": {
            "tags": []
          },
          "execution_count": 306
        }
      ]
    },
    {
      "metadata": {
        "id": "aPwcf4a5UH_5",
        "colab_type": "code",
        "outputId": "26bc5ddb-137d-46fe-e6b1-3035bcea4346",
        "colab": {
          "base_uri": "https://localhost:8080/",
          "height": 204
        }
      },
      "cell_type": "code",
      "source": [
        "Data_median['fundedDate'] = pd.to_datetime((Data_median['fundedDate'] - 25569) * 86400.0, unit='s')\n",
        "\n",
        "Data_median.head()\n"
      ],
      "execution_count": 307,
      "outputs": [
        {
          "output_type": "execute_result",
          "data": {
            "text/html": [
              "<div>\n",
              "<style scoped>\n",
              "    .dataframe tbody tr th:only-of-type {\n",
              "        vertical-align: middle;\n",
              "    }\n",
              "\n",
              "    .dataframe tbody tr th {\n",
              "        vertical-align: top;\n",
              "    }\n",
              "\n",
              "    .dataframe thead th {\n",
              "        text-align: right;\n",
              "    }\n",
              "</style>\n",
              "<table border=\"1\" class=\"dataframe\">\n",
              "  <thead>\n",
              "    <tr style=\"text-align: right;\">\n",
              "      <th></th>\n",
              "      <th>permalink</th>\n",
              "      <th>company</th>\n",
              "      <th>Employee_count</th>\n",
              "      <th>category</th>\n",
              "      <th>city_x</th>\n",
              "      <th>fundedDate</th>\n",
              "      <th>raisedAmt</th>\n",
              "      <th>raisedCurrency</th>\n",
              "      <th>round</th>\n",
              "      <th>city_y</th>\n",
              "      <th>state</th>\n",
              "    </tr>\n",
              "  </thead>\n",
              "  <tbody>\n",
              "    <tr>\n",
              "      <th>0</th>\n",
              "      <td>lifelock-5</td>\n",
              "      <td>LifeLock</td>\n",
              "      <td>95.72134</td>\n",
              "      <td>web</td>\n",
              "      <td>Tempe</td>\n",
              "      <td>2007-05-01</td>\n",
              "      <td>6850000.0</td>\n",
              "      <td>USD</td>\n",
              "      <td>b</td>\n",
              "      <td>Gilb</td>\n",
              "      <td>AZ</td>\n",
              "    </tr>\n",
              "    <tr>\n",
              "      <th>1</th>\n",
              "      <td>lifelock-3</td>\n",
              "      <td>LifeLock</td>\n",
              "      <td>95.72134</td>\n",
              "      <td>web</td>\n",
              "      <td>Tempe</td>\n",
              "      <td>2006-10-01</td>\n",
              "      <td>6000000.0</td>\n",
              "      <td>USD</td>\n",
              "      <td>a</td>\n",
              "      <td>Phoe</td>\n",
              "      <td>AZ</td>\n",
              "    </tr>\n",
              "    <tr>\n",
              "      <th>2</th>\n",
              "      <td>None</td>\n",
              "      <td>LifeLock</td>\n",
              "      <td>95.72134</td>\n",
              "      <td>web</td>\n",
              "      <td>None</td>\n",
              "      <td>2008-01-01</td>\n",
              "      <td>25000000.0</td>\n",
              "      <td>USD</td>\n",
              "      <td>c</td>\n",
              "      <td>Scottsd</td>\n",
              "      <td>AZ</td>\n",
              "    </tr>\n",
              "    <tr>\n",
              "      <th>3</th>\n",
              "      <td>mycityfaces-4</td>\n",
              "      <td>MyCityFaces</td>\n",
              "      <td>7.00000</td>\n",
              "      <td>web</td>\n",
              "      <td>Scottsdale</td>\n",
              "      <td>2008-01-01</td>\n",
              "      <td>50000.0</td>\n",
              "      <td>USD</td>\n",
              "      <td>seed</td>\n",
              "      <td>Scottsd</td>\n",
              "      <td>AZ</td>\n",
              "    </tr>\n",
              "    <tr>\n",
              "      <th>4</th>\n",
              "      <td>flypaper-3</td>\n",
              "      <td>Flypaper</td>\n",
              "      <td>95.72134</td>\n",
              "      <td>web</td>\n",
              "      <td>Phoenix</td>\n",
              "      <td>2008-02-01</td>\n",
              "      <td>3000000.0</td>\n",
              "      <td>USD</td>\n",
              "      <td>a</td>\n",
              "      <td>Scottsd</td>\n",
              "      <td>AZ</td>\n",
              "    </tr>\n",
              "  </tbody>\n",
              "</table>\n",
              "</div>"
            ],
            "text/plain": [
              "       permalink      company  Employee_count category      city_x fundedDate  \\\n",
              "0     lifelock-5     LifeLock        95.72134      web       Tempe 2007-05-01   \n",
              "1     lifelock-3     LifeLock        95.72134      web       Tempe 2006-10-01   \n",
              "2           None     LifeLock        95.72134      web        None 2008-01-01   \n",
              "3  mycityfaces-4  MyCityFaces         7.00000      web  Scottsdale 2008-01-01   \n",
              "4     flypaper-3     Flypaper        95.72134      web     Phoenix 2008-02-01   \n",
              "\n",
              "    raisedAmt raisedCurrency round   city_y state  \n",
              "0   6850000.0            USD     b     Gilb    AZ  \n",
              "1   6000000.0            USD     a     Phoe    AZ  \n",
              "2  25000000.0            USD     c  Scottsd    AZ  \n",
              "3     50000.0            USD  seed  Scottsd    AZ  \n",
              "4   3000000.0            USD     a  Scottsd    AZ  "
            ]
          },
          "metadata": {
            "tags": []
          },
          "execution_count": 307
        }
      ]
    },
    {
      "metadata": {
        "id": "KS-9u8M5Q7-Z",
        "colab_type": "text"
      },
      "cell_type": "markdown",
      "source": [
        "## Statistical and Visualization"
      ]
    },
    {
      "metadata": {
        "id": "-hTOqUwERBv_",
        "colab_type": "code",
        "colab": {
          "base_uri": "https://localhost:8080/",
          "height": 297
        },
        "outputId": "5baf642b-0004-4e0d-bba1-0f3e8d862309"
      },
      "cell_type": "code",
      "source": [
        "Data_median.describe()"
      ],
      "execution_count": 309,
      "outputs": [
        {
          "output_type": "execute_result",
          "data": {
            "text/html": [
              "<div>\n",
              "<style scoped>\n",
              "    .dataframe tbody tr th:only-of-type {\n",
              "        vertical-align: middle;\n",
              "    }\n",
              "\n",
              "    .dataframe tbody tr th {\n",
              "        vertical-align: top;\n",
              "    }\n",
              "\n",
              "    .dataframe thead th {\n",
              "        text-align: right;\n",
              "    }\n",
              "</style>\n",
              "<table border=\"1\" class=\"dataframe\">\n",
              "  <thead>\n",
              "    <tr style=\"text-align: right;\">\n",
              "      <th></th>\n",
              "      <th>Employee_count</th>\n",
              "      <th>raisedAmt</th>\n",
              "    </tr>\n",
              "  </thead>\n",
              "  <tbody>\n",
              "    <tr>\n",
              "      <th>count</th>\n",
              "      <td>1460.000000</td>\n",
              "      <td>1.460000e+03</td>\n",
              "    </tr>\n",
              "    <tr>\n",
              "      <th>mean</th>\n",
              "      <td>95.721340</td>\n",
              "      <td>1.013149e+07</td>\n",
              "    </tr>\n",
              "    <tr>\n",
              "      <th>std</th>\n",
              "      <td>540.333895</td>\n",
              "      <td>1.866146e+07</td>\n",
              "    </tr>\n",
              "    <tr>\n",
              "      <th>min</th>\n",
              "      <td>0.000000</td>\n",
              "      <td>6.000000e+03</td>\n",
              "    </tr>\n",
              "    <tr>\n",
              "      <th>25%</th>\n",
              "      <td>35.000000</td>\n",
              "      <td>2.000000e+06</td>\n",
              "    </tr>\n",
              "    <tr>\n",
              "      <th>50%</th>\n",
              "      <td>95.721340</td>\n",
              "      <td>5.500000e+06</td>\n",
              "    </tr>\n",
              "    <tr>\n",
              "      <th>75%</th>\n",
              "      <td>95.721340</td>\n",
              "      <td>1.102500e+07</td>\n",
              "    </tr>\n",
              "    <tr>\n",
              "      <th>max</th>\n",
              "      <td>20000.000000</td>\n",
              "      <td>3.000000e+08</td>\n",
              "    </tr>\n",
              "  </tbody>\n",
              "</table>\n",
              "</div>"
            ],
            "text/plain": [
              "       Employee_count     raisedAmt\n",
              "count     1460.000000  1.460000e+03\n",
              "mean        95.721340  1.013149e+07\n",
              "std        540.333895  1.866146e+07\n",
              "min          0.000000  6.000000e+03\n",
              "25%         35.000000  2.000000e+06\n",
              "50%         95.721340  5.500000e+06\n",
              "75%         95.721340  1.102500e+07\n",
              "max      20000.000000  3.000000e+08"
            ]
          },
          "metadata": {
            "tags": []
          },
          "execution_count": 309
        }
      ]
    },
    {
      "metadata": {
        "id": "AwcQE7GJzqLs",
        "colab_type": "code",
        "outputId": "b3435ca0-3cf3-4ac2-84de-86ffa71a744d",
        "colab": {
          "base_uri": "https://localhost:8080/",
          "height": 111
        }
      },
      "cell_type": "code",
      "source": [
        "## Correlation Matrix\n",
        "sns.set(style=\"white\")\n",
        "\n",
        "# Compute the correlation matrix\n",
        "corr = Data_median.corr()\n",
        "corr.head()"
      ],
      "execution_count": 310,
      "outputs": [
        {
          "output_type": "execute_result",
          "data": {
            "text/html": [
              "<div>\n",
              "<style scoped>\n",
              "    .dataframe tbody tr th:only-of-type {\n",
              "        vertical-align: middle;\n",
              "    }\n",
              "\n",
              "    .dataframe tbody tr th {\n",
              "        vertical-align: top;\n",
              "    }\n",
              "\n",
              "    .dataframe thead th {\n",
              "        text-align: right;\n",
              "    }\n",
              "</style>\n",
              "<table border=\"1\" class=\"dataframe\">\n",
              "  <thead>\n",
              "    <tr style=\"text-align: right;\">\n",
              "      <th></th>\n",
              "      <th>Employee_count</th>\n",
              "      <th>raisedAmt</th>\n",
              "    </tr>\n",
              "  </thead>\n",
              "  <tbody>\n",
              "    <tr>\n",
              "      <th>Employee_count</th>\n",
              "      <td>1.000000</td>\n",
              "      <td>0.094587</td>\n",
              "    </tr>\n",
              "    <tr>\n",
              "      <th>raisedAmt</th>\n",
              "      <td>0.094587</td>\n",
              "      <td>1.000000</td>\n",
              "    </tr>\n",
              "  </tbody>\n",
              "</table>\n",
              "</div>"
            ],
            "text/plain": [
              "                Employee_count  raisedAmt\n",
              "Employee_count        1.000000   0.094587\n",
              "raisedAmt             0.094587   1.000000"
            ]
          },
          "metadata": {
            "tags": []
          },
          "execution_count": 310
        }
      ]
    },
    {
      "metadata": {
        "id": "w2mEW9Kmz0VA",
        "colab_type": "code",
        "outputId": "aefa1ed1-95de-44fa-ea3c-5645d52fe8fb",
        "colab": {
          "base_uri": "https://localhost:8080/",
          "height": 445
        }
      },
      "cell_type": "code",
      "source": [
        "# Generate a mask for the upper triangle\n",
        "mask = np.zeros_like(corr, dtype=np.bool)\n",
        "mask[np.triu_indices_from(mask)] = True\n",
        "\n",
        "# Set up the matplotlib figure\n",
        "f, ax = plt.subplots(figsize=(9, 7))\n",
        "\n",
        "# Generate a custom diverging colormap\n",
        "cmap = sns.diverging_palette(220, 10, as_cmap=True)\n",
        "\n",
        "# Draw the heatmap with the mask and correct aspect ratio\n",
        "sns.heatmap(corr, mask=mask, cmap=cmap, vmax=.3, center=0,\n",
        "            square=True, linewidths=.5, cbar_kws={\"shrink\": .5})"
      ],
      "execution_count": 311,
      "outputs": [
        {
          "output_type": "execute_result",
          "data": {
            "text/plain": [
              "<matplotlib.axes._subplots.AxesSubplot at 0x7efc2e1fb320>"
            ]
          },
          "metadata": {
            "tags": []
          },
          "execution_count": 311
        },
        {
          "output_type": "display_data",
          "data": {
            "image/png": "[encoded data removed]",
            "text/plain": [
              "<Figure size 648x504 with 2 Axes>"
            ]
          },
          "metadata": {
            "tags": []
          }
        }
      ]
    },
    {
      "metadata": {
        "id": "F2jO4SKU0rVg",
        "colab_type": "code",
        "colab": {}
      },
      "cell_type": "code",
      "source": [
        "Data_median.to_excel('Data_median.xlsx')\n",
        "from google.colab import files\n",
        "files.download('Data_median.xlsx')"
      ],
      "execution_count": 0,
      "outputs": []
    },
    {
      "metadata": {
        "id": "vg-YYSqtILSo",
        "colab_type": "code",
        "outputId": "81f1ffe9-b9e0-4856-9054-38e6a7cd9c6f",
        "colab": {
          "base_uri": "https://localhost:8080/",
          "height": 395
        }
      },
      "cell_type": "code",
      "source": [
        "ax = sns.barplot(y=\"category\", x=\"raisedAmt\", data=Data_median )\n",
        "sns.set(rc={'figure.figsize':(14,8)})"
      ],
      "execution_count": 313,
      "outputs": [
        {
          "output_type": "stream",
          "text": [
            "/usr/local/lib/python3.6/dist-packages/seaborn/categorical.py:1428: FutureWarning: remove_na is deprecated and is a private function. Do not use.\n",
            "  stat_data = remove_na(group_data)\n"
          ],
          "name": "stderr"
        },
        {
          "output_type": "display_data",
          "data": {
            "image/png": "[encoded data removed]",
            "text/plain": [
              "<Figure size 576x396 with 1 Axes>"
            ]
          },
          "metadata": {
            "tags": []
          }
        }
      ]
    },
    {
      "metadata": {
        "id": "9Rl_7J2HQ0iI",
        "colab_type": "code",
        "outputId": "439ef771-19f5-4a20-b12d-a246bc36f327",
        "colab": {
          "base_uri": "https://localhost:8080/",
          "height": 531
        }
      },
      "cell_type": "code",
      "source": [
        "\n",
        "ax = sns.barplot(y=\"category\", x=\"raisedAmt\", data=Data_median ,hue='round')\n",
        "sns.set(rc={'figure.figsize':(16,12)})"
      ],
      "execution_count": 314,
      "outputs": [
        {
          "output_type": "stream",
          "text": [
            "/usr/local/lib/python3.6/dist-packages/seaborn/categorical.py:1468: FutureWarning: remove_na is deprecated and is a private function. Do not use.\n",
            "  stat_data = remove_na(group_data[hue_mask])\n"
          ],
          "name": "stderr"
        },
        {
          "output_type": "display_data",
          "data": {
            "image/png": "[encoded data removed]",
            "text/plain": [
              "<Figure size 1008x576 with 1 Axes>"
            ]
          },
          "metadata": {
            "tags": []
          }
        }
      ]
    },
    {
      "metadata": {
        "id": "4R3O-cdczgxY",
        "colab_type": "code",
        "outputId": "9fe00adf-a407-486d-d1e5-435bcdf2b219",
        "colab": {
          "base_uri": "https://localhost:8080/",
          "height": 714
        }
      },
      "cell_type": "code",
      "source": [
        "sns.regplot(x=\"raisedAmt\", y=\"Employee_count\",data=Data_median);\n",
        "sns.set(rc={'figure.figsize':(16,12)})"
      ],
      "execution_count": 315,
      "outputs": [
        {
          "output_type": "display_data",
          "data": {
            "image/png": "[encoded data removed]",
            "text/plain": [
              "<Figure size 1152x864 with 1 Axes>"
            ]
          },
          "metadata": {
            "tags": []
          }
        }
      ]
    },
    {
      "metadata": {
        "id": "druS-5uOQrf2",
        "colab_type": "code",
        "outputId": "ae37326c-ecda-4023-fbfe-dd489aa794a5",
        "colab": {
          "base_uri": "https://localhost:8080/",
          "height": 465
        }
      },
      "cell_type": "code",
      "source": [
        "sns.jointplot(x=\"raisedAmt\", y=\"Employee_count\", data=Data_median,kind=\"kde\")"
      ],
      "execution_count": 316,
      "outputs": [
        {
          "output_type": "execute_result",
          "data": {
            "text/plain": [
              "<seaborn.axisgrid.JointGrid at 0x7efc34bc4320>"
            ]
          },
          "metadata": {
            "tags": []
          },
          "execution_count": 316
        },
        {
          "output_type": "display_data",
          "data": {
            "image/png": "[encoded data removed]",
            "text/plain": [
              "<Figure size 432x432 with 3 Axes>"
            ]
          },
          "metadata": {
            "tags": []
          }
        }
      ]
    },
    {
      "metadata": {
        "id": "cHnjIOXsXHsw",
        "colab_type": "code",
        "colab": {}
      },
      "cell_type": "code",
      "source": [
        ""
      ],
      "execution_count": 0,
      "outputs": []
    },
    {
      "metadata": {
        "id": "3h5aoqSSiRSj",
        "colab_type": "code",
        "colab": {}
      },
      "cell_type": "code",
      "source": [
        ""
      ],
      "execution_count": 0,
      "outputs": []
    },
    {
      "metadata": {
        "id": "m7RL_OYks_Ik",
        "colab_type": "code",
        "colab": {}
      },
      "cell_type": "code",
      "source": [
        ""
      ],
      "execution_count": 0,
      "outputs": []
    },
    {
      "metadata": {
        "id": "hPEWztZlY3ZZ",
        "colab_type": "code",
        "colab": {}
      },
      "cell_type": "code",
      "source": [
        ""
      ],
      "execution_count": 0,
      "outputs": []
    },
    {
      "metadata": {
        "id": "njhleIB3Zmzs",
        "colab_type": "code",
        "colab": {}
      },
      "cell_type": "code",
      "source": [
        ""
      ],
      "execution_count": 0,
      "outputs": []
    },
    {
      "metadata": {
        "id": "9oQveMG2e2ra",
        "colab_type": "code",
        "colab": {}
      },
      "cell_type": "code",
      "source": [
        ""
      ],
      "execution_count": 0,
      "outputs": []
    },
    {
      "metadata": {
        "id": "KubfRgOsagqe",
        "colab_type": "code",
        "colab": {}
      },
      "cell_type": "code",
      "source": [
        ""
      ],
      "execution_count": 0,
      "outputs": []
    },
    {
      "metadata": {
        "id": "MsIW0RCTei4f",
        "colab_type": "code",
        "colab": {}
      },
      "cell_type": "code",
      "source": [
        ""
      ],
      "execution_count": 0,
      "outputs": []
    },
    {
      "metadata": {
        "id": "q3f2sLPeqVGl",
        "colab_type": "code",
        "colab": {}
      },
      "cell_type": "code",
      "source": [
        ""
      ],
      "execution_count": 0,
      "outputs": []
    },
    {
      "metadata": {
        "id": "4QRFBF4prvne",
        "colab_type": "code",
        "colab": {}
      },
      "cell_type": "code",
      "source": [
        ""
      ],
      "execution_count": 0,
      "outputs": []
    },
    {
      "metadata": {
        "id": "SI4zOa22sCtH",
        "colab_type": "code",
        "colab": {}
      },
      "cell_type": "code",
      "source": [
        ""
      ],
      "execution_count": 0,
      "outputs": []
    },
    {
      "metadata": {
        "id": "4GdYqkFDPPpv",
        "colab_type": "text"
      },
      "cell_type": "markdown",
      "source": [
        ""
      ]
    }
  ]
}